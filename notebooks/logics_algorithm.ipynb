{
 "cells": [
  {
   "cell_type": "code",
   "execution_count": null,
   "id": "64b74cd9",
   "metadata": {},
   "outputs": [],
   "source": [
    "SPARK_SENTIMENTS_ARRAY = []"
   ]
  },
  {
   "cell_type": "markdown",
   "id": "bb577270",
   "metadata": {},
   "source": [
    "Import Dependencies:"
   ]
  },
  {
   "cell_type": "code",
   "execution_count": null,
   "id": "dca61108",
   "metadata": {},
   "outputs": [],
   "source": [
    "import os\n",
    "import json\n",
    "import pandas as pd\n",
    "from sklearn import svm\n",
    "import matplotlib.pyplot as plt\n",
    "import numpy as np\n",
    "from numpy.fft import fft, ifft, fftfreq\n",
    "from scipy import signal\n",
    "from scipy.signal import lfilter\n",
    "import pylab as pl\n",
    "import matplotlib.pyplot as plt\n",
    "from sklearn import metrics"
   ]
  },
  {
   "cell_type": "markdown",
   "id": "30e9e0e4",
   "metadata": {},
   "source": [
    "Analyze Prices and Tweets and predict if price will go up or down:"
   ]
  },
  {
   "cell_type": "code",
   "execution_count": null,
   "id": "b2c78710",
   "metadata": {},
   "outputs": [],
   "source": [
    "def get_fft_factor(pred, window):\n",
    "    \"\"\"Returns the expected change in stock value in precent/100\n",
    "\n",
    "    Parameters\n",
    "    ----------\n",
    "    pred : ndarray\n",
    "        A list of previuos and predicted stock values\n",
    "    window : integer\n",
    "        A number representing the time-frame of stock analysis in days before the curret day\n",
    "\n",
    "    Returns\n",
    "    -------\n",
    "    float\n",
    "        Expected change stock value in precentace/100\n",
    "    \"\"\"\n",
    "    return (pred[window]-pred[window-1])/pred[window-1]\n",
    "\n",
    "def analyze(prices_n, sent_n, sent_fac, fft_fac, results, window):\n",
    "    \"\"\"Decides if to buy or sell the stock\n",
    "\n",
    "    Parameters\n",
    "    ----------\n",
    "    prices_n : ndarray\n",
    "        A list of n previuos stock values\n",
    "    sent_n : float\n",
    "        A number representing the combined sentiment value of the last n tweets\n",
    "    sent_fac : list\n",
    "        A list of all previuos combined sentiment values\n",
    "    fft_fac : list\n",
    "        A list of all previuos fft factores\n",
    "    results : list\n",
    "        A list of all decision results (success,failure)\n",
    "    window : integer\n",
    "        A number representing the time-frame of stock analysis in days before the curret day\n",
    "        \n",
    "    Returns\n",
    "    -------\n",
    "    decision : int\n",
    "        A list of n previuos stock values\n",
    "    a : float\n",
    "        A number representing the weight of fft analysis results in desicion making, in the first days of runtime\n",
    "    b : float\n",
    "        A number representing the weight of sentiment analysis results in desicion making, in the first days of runtime\n",
    "    fft_factor : float\n",
    "        The expected change in stock value in precent/100\n",
    "    sent_factor : float\n",
    "        A number representing the combined sentiment value of the last n tweets\n",
    "    fft_pred : ndarray\n",
    "        A list of previuos and predicted stock values\n",
    "    \"\"\"\n",
    "    a = 0.8\n",
    "    b = 0.2\n",
    "    fft_pred = fft_model.predict(prices_n)\n",
    "    sent_factor = sent_n\n",
    "    fft_factor = get_fft_factor(fft_pred, window)\n",
    "    if len(results) > 100:\n",
    "        clf = svm.SVC(kernel='linear')  # Linear Kernel\n",
    "        X_train = pd.DataFrame({'fft': fft_fac, 'sent': sent_fac})\n",
    "        clf.fit(X_train.tail(window), pd.Series(results).tail(window))\n",
    "        decision = clf.predict(pd.DataFrame({'fft': fft_factor, 'sent': sent_factor}, index=[0]))[0]\n",
    "        return decision, a, b, fft_factor, sent_factor, fft_pred\n",
    "    else:\n",
    "        decision = 1 if a*fft_factor+b*sent_factor > 1 else 0\n",
    "        return decision, a, b, fft_factor, sent_factor, fft_pred"
   ]
  },
  {
   "cell_type": "markdown",
   "id": "03e68abb",
   "metadata": {},
   "source": [
    "Check if predictions where true and what actually happand to the stock price:"
   ]
  },
  {
   "cell_type": "code",
   "execution_count": null,
   "id": "cd78edf7",
   "metadata": {},
   "outputs": [],
   "source": [
    "def get_results(dec,actual_price, window):\n",
    "            \"\"\"Perform Fouirer analisys and extrapulation of future stock values\n",
    "\n",
    "    Parameters\n",
    "    ----------\n",
    "    dec : tuple\n",
    "        A tuple containing the results of previous 'analyze' function results\n",
    "    actual_price : float\n",
    "        The actual stock price of the next day\n",
    "    window : integer\n",
    "        A number representing the time-frame of stock analysis in days before the curret day\n",
    "    Returns\n",
    "    -------\n",
    "    float\n",
    "        The expected change in stock value in precent/100\n",
    "    \"\"\"\n",
    "    pred = dec[5]\n",
    "    diff = (actual_price - pred[window])/actual_price\n",
    "    return diff\n",
    "\n",
    "def get_outcome(last,next_day):\n",
    "                \"\"\"Check if the price whent up or down the next day\n",
    "\n",
    "    Parameters\n",
    "    ----------\n",
    "    last : float\n",
    "        The stock price (close price) on the day of analysis\n",
    "    next_day : float\n",
    "        The stock price of the next day\n",
    "    Returns\n",
    "    -------\n",
    "    int\n",
    "        Returns 1 or 0 depending if the stock whent up or down the next day\n",
    "    \"\"\"\n",
    "    diff = 1 if (next_day - last) > 0 else 0\n",
    "    return diff"
   ]
  },
  {
   "cell_type": "markdown",
   "id": "4a8c37fc",
   "metadata": {},
   "source": [
    "Function for Performing Fourier analysis and extrapulation for the next day:"
   ]
  },
  {
   "cell_type": "code",
   "execution_count": null,
   "id": "2a122255",
   "metadata": {},
   "outputs": [],
   "source": [
    "def fourierExtrapolation(x, n_predict):\n",
    "        \"\"\"Perform Fouirer analisys and extrapulation of future stock values\n",
    "\n",
    "    Parameters\n",
    "    ----------\n",
    "    x : ndarray\n",
    "        An array that holds stock values\n",
    "    n_predict : integer\n",
    "        The number of days required for extrapulation (prediction)\n",
    "\n",
    "    Returns\n",
    "    -------\n",
    "    ndarray\n",
    "        An array that holds astimated and predicted stock values\n",
    "    \"\"\"\n",
    "    n = x.size\n",
    "    n_harm = x.size  # number of harmonics in model\n",
    "    t = np.arange(0, n)\n",
    "    p = np.polyfit(t, x, 1)  # find linear trend in x\n",
    "    x_freqdom = fft(x)  # detrended x in frequency domain\n",
    "    f = fftfreq(n)  # frequencies\n",
    "    indexes = list(range(n))\n",
    "    # sort indexes by frequency, lower -> higher\n",
    "    indexes.sort(key=lambda i: np.absolute(f[i]))\n",
    "\n",
    "    t = np.arange(0, n + n_predict)\n",
    "    restored_sig = np.zeros(t.size)\n",
    "    for i in indexes[:1 + n_harm * 2]:\n",
    "        ampli = np.absolute(x_freqdom[i]) / n  # amplitude\n",
    "        phase = np.angle(x_freqdom[i])  # phase\n",
    "        restored_sig += ampli * np.cos(2 * np.pi * f[i] * t + phase)\n",
    "    return restored_sig + p[0] * t"
   ]
  },
  {
   "cell_type": "markdown",
   "id": "2c9faddf",
   "metadata": {},
   "source": [
    "Perform Fourier analysis and extrapulation for the next day:"
   ]
  },
  {
   "cell_type": "code",
   "execution_count": null,
   "id": "514a40bd",
   "metadata": {},
   "outputs": [],
   "source": [
    "def predict(data):\n",
    "            \"\"\"Predict future stock values\n",
    "\n",
    "    Parameters\n",
    "    ----------\n",
    "    data : ndarray\n",
    "        An array that holds stock values\n",
    "\n",
    "    Returns\n",
    "    -------\n",
    "    ndarray\n",
    "        An array that holds astimated and predicted stock values\n",
    "    \"\"\"\n",
    "    detrended = signal.detrend(data)\n",
    "    n = 15\n",
    "    b = [1.0 / n] * n\n",
    "    a = 1\n",
    "    filtered_signal = lfilter(b, a, detrended)\n",
    "    extrapolation = fourierExtrapolation(filtered_signal, 3)\n",
    "    return extrapolation"
   ]
  },
  {
   "cell_type": "markdown",
   "id": "429173b4",
   "metadata": {},
   "source": [
    "Main loop - run analysis and evaluations, store data for further use:"
   ]
  },
  {
   "cell_type": "code",
   "execution_count": 1,
   "id": "cb6e62cc",
   "metadata": {},
   "outputs": [
    {
     "ename": "NameError",
     "evalue": "name 'pd' is not defined",
     "output_type": "error",
     "traceback": [
      "\u001b[1;31m---------------------------------------------------------------------------\u001b[0m",
      "\u001b[1;31mNameError\u001b[0m                                 Traceback (most recent call last)",
      "\u001b[1;32m~\\AppData\\Local\\Temp\\ipykernel_4624\\692323680.py\u001b[0m in \u001b[0;36m<cell line: 4>\u001b[1;34m()\u001b[0m\n\u001b[0;32m      2\u001b[0m \u001b[0mThis\u001b[0m \u001b[1;32mis\u001b[0m \u001b[0mthe\u001b[0m \u001b[0mmain\u001b[0m \u001b[0mloop\u001b[0m \u001b[0mof\u001b[0m \u001b[0mthe\u001b[0m \u001b[0mproject\u001b[0m\u001b[1;33m,\u001b[0m \u001b[0mit\u001b[0m \u001b[0mgoas\u001b[0m \u001b[0mtourgh\u001b[0m \u001b[0mthe\u001b[0m \u001b[0mdata\u001b[0m \u001b[0mthat\u001b[0m \u001b[0mcomes\u001b[0m \u001b[1;32mfrom\u001b[0m \u001b[0mSPARK\u001b[0m\u001b[1;33m,\u001b[0m \u001b[0manalyzes\u001b[0m \u001b[0mthe\u001b[0m \u001b[0mprice\u001b[0m\u001b[1;33m,\u001b[0m\u001b[0mmakes\u001b[0m \u001b[0mpredictions\u001b[0m \u001b[1;32mand\u001b[0m \u001b[0mdecides\u001b[0m\u001b[1;33m\u001b[0m\u001b[1;33m\u001b[0m\u001b[0m\n\u001b[0;32m      3\u001b[0m '''\n\u001b[1;32m----> 4\u001b[1;33m \u001b[0mspy_df\u001b[0m \u001b[1;33m=\u001b[0m \u001b[0mpd\u001b[0m\u001b[1;33m.\u001b[0m\u001b[0mread_csv\u001b[0m\u001b[1;33m(\u001b[0m\u001b[0mSPY_STREAM\u001b[0m\u001b[1;33m)\u001b[0m\u001b[1;33m\u001b[0m\u001b[1;33m\u001b[0m\u001b[0m\n\u001b[0m\u001b[0;32m      5\u001b[0m \u001b[0mclose_prices\u001b[0m \u001b[1;33m=\u001b[0m \u001b[0mspy_df\u001b[0m\u001b[1;33m[\u001b[0m\u001b[1;34m'Close'\u001b[0m\u001b[1;33m]\u001b[0m\u001b[1;33m.\u001b[0m\u001b[0mto_numpy\u001b[0m\u001b[1;33m(\u001b[0m\u001b[1;33m)\u001b[0m\u001b[1;33m\u001b[0m\u001b[1;33m\u001b[0m\u001b[0m\n\u001b[0;32m      6\u001b[0m \u001b[0msentiment_df\u001b[0m \u001b[1;33m=\u001b[0m \u001b[0mSPARK_SENTIMENTS_ARRAY\u001b[0m\u001b[1;33m\u001b[0m\u001b[1;33m\u001b[0m\u001b[0m\n",
      "\u001b[1;31mNameError\u001b[0m: name 'pd' is not defined"
     ]
    }
   ],
   "source": [
    "'''\n",
    "This is the main loop of the project, it goas tourgh the data that comes from SPARK, analyzes the price,\n",
    "makes predictions and decides if to by or sell the stock\n",
    "'''\n",
    "# stock and sentiment data\n",
    "spy_df = pd.read_csv(SPY_STREAM)\n",
    "close_prices = spy_df['Close'].to_numpy()\n",
    "sentiment_df = SPARK_SENTIMENTS_ARRAY\n",
    "sentences = sentiment_df['Sentence']\n",
    "# parameters:\n",
    "start = 0\n",
    "window = 50 #time frame\n",
    "# stored data:\n",
    "results = []\n",
    "fft_factors = []\n",
    "sent_factors = []\n",
    "decisions = []\n",
    "outcomes = []\n",
    "# loop\n",
    "for _ in range(0, 285):\n",
    "    decision = ensemble_model.analyze(close_prices[start:start+window], sentiment_df[start:start+window], fft_factors, sent_factors, outcomes, window)\n",
    "    decisions.append(decision[0])\n",
    "    fft_factors.append(decision[3])\n",
    "    sent_factors.append(decision[4])\n",
    "    result = portfolio_management_model.get_results(decision, close_prices[start+window+1], window)\n",
    "    results.append(result)\n",
    "    outcome = portfolio_management_model.get_outcome(close_prices[start + window], close_prices[start + window + 1])\n",
    "    outcomes.append(outcome)\n",
    "    print(f'{start} out of {len(close_prices-1)}')\n",
    "    start += 1\n",
    "\n",
    "print(\"Accuracy:\", metrics.accuracy_score(outcomes[100:], decisions[100:]))\n",
    "# analysis of accuracy score of the last 100 days, from day 1 to day 185 of analysis\n",
    "acc = []\n",
    "for i in range(0, 185):\n",
    "    acc.append(metrics.accuracy_score(outcomes[i:i+100], decisions[i:i+100]))\n",
    "plt.plot(acc)\n",
    "plt.show()"
   ]
  },
  {
   "cell_type": "code",
   "execution_count": null,
   "id": "d0076d57",
   "metadata": {},
   "outputs": [],
   "source": []
  }
 ],
 "metadata": {
  "kernelspec": {
   "display_name": "Python 3 (ipykernel)",
   "language": "python",
   "name": "python3"
  },
  "language_info": {
   "codemirror_mode": {
    "name": "ipython",
    "version": 3
   },
   "file_extension": ".py",
   "mimetype": "text/x-python",
   "name": "python",
   "nbconvert_exporter": "python",
   "pygments_lexer": "ipython3",
   "version": "3.9.9"
  }
 },
 "nbformat": 4,
 "nbformat_minor": 5
}
