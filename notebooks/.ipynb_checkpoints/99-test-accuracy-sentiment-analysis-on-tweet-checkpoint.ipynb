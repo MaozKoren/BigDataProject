{
 "cells": [
  {
   "cell_type": "code",
   "execution_count": 2,
   "id": "e1894f52",
   "metadata": {
    "_cell_guid": "b1076dfc-b9ad-4769-8c92-a6c4dae69d19",
    "_uuid": "8f2839f25d086af736a60e9eeb907d3b93b6e0e5",
    "execution": {
     "iopub.execute_input": "2023-01-25T08:55:20.447487Z",
     "iopub.status.busy": "2023-01-25T08:55:20.447006Z",
     "iopub.status.idle": "2023-01-25T08:55:22.587836Z",
     "shell.execute_reply": "2023-01-25T08:55:22.586701Z"
    },
    "papermill": {
     "duration": 2.15291,
     "end_time": "2023-01-25T08:55:22.590748",
     "exception": false,
     "start_time": "2023-01-25T08:55:20.437838",
     "status": "completed"
    },
    "tags": []
   },
   "outputs": [
    {
     "ename": "ModuleNotFoundError",
     "evalue": "No module named 'wordcloud'",
     "output_type": "error",
     "traceback": [
      "\u001b[1;31m---------------------------------------------------------------------------\u001b[0m",
      "\u001b[1;31mModuleNotFoundError\u001b[0m                       Traceback (most recent call last)",
      "\u001b[1;32m~\\AppData\\Local\\Temp\\ipykernel_36340\\3083598566.py\u001b[0m in \u001b[0;36m<cell line: 13>\u001b[1;34m()\u001b[0m\n\u001b[0;32m     11\u001b[0m \u001b[1;32mfrom\u001b[0m \u001b[0mnltk\u001b[0m\u001b[1;33m.\u001b[0m\u001b[0mcorpus\u001b[0m \u001b[1;32mimport\u001b[0m \u001b[0mstopwords\u001b[0m\u001b[1;33m\u001b[0m\u001b[1;33m\u001b[0m\u001b[0m\n\u001b[0;32m     12\u001b[0m \u001b[0mstop_words\u001b[0m \u001b[1;33m=\u001b[0m \u001b[0mset\u001b[0m\u001b[1;33m(\u001b[0m\u001b[0mstopwords\u001b[0m\u001b[1;33m.\u001b[0m\u001b[0mwords\u001b[0m\u001b[1;33m(\u001b[0m\u001b[1;34m'english'\u001b[0m\u001b[1;33m)\u001b[0m\u001b[1;33m)\u001b[0m\u001b[1;33m\u001b[0m\u001b[1;33m\u001b[0m\u001b[0m\n\u001b[1;32m---> 13\u001b[1;33m \u001b[1;32mfrom\u001b[0m \u001b[0mwordcloud\u001b[0m \u001b[1;32mimport\u001b[0m \u001b[0mWordCloud\u001b[0m\u001b[1;33m\u001b[0m\u001b[1;33m\u001b[0m\u001b[0m\n\u001b[0m\u001b[0;32m     14\u001b[0m \u001b[1;32mfrom\u001b[0m \u001b[0msklearn\u001b[0m\u001b[1;33m.\u001b[0m\u001b[0mfeature_extraction\u001b[0m\u001b[1;33m.\u001b[0m\u001b[0mtext\u001b[0m \u001b[1;32mimport\u001b[0m \u001b[0mCountVectorizer\u001b[0m\u001b[1;33m\u001b[0m\u001b[1;33m\u001b[0m\u001b[0m\n\u001b[0;32m     15\u001b[0m \u001b[1;32mfrom\u001b[0m \u001b[0msklearn\u001b[0m\u001b[1;33m.\u001b[0m\u001b[0mmodel_selection\u001b[0m \u001b[1;32mimport\u001b[0m \u001b[0mtrain_test_split\u001b[0m\u001b[1;33m\u001b[0m\u001b[1;33m\u001b[0m\u001b[0m\n",
      "\u001b[1;31mModuleNotFoundError\u001b[0m: No module named 'wordcloud'"
     ]
    }
   ],
   "source": [
    "import pandas as pd\n",
    "import numpy as np\n",
    "import re\n",
    "import seaborn as sns\n",
    "import matplotlib.pyplot as plt\n",
    "from matplotlib import style\n",
    "style.use('ggplot')\n",
    "from textblob import TextBlob\n",
    "from nltk.tokenize import word_tokenize\n",
    "from nltk.stem import PorterStemmer\n",
    "from nltk.corpus import stopwords\n",
    "stop_words = set(stopwords.words('english'))\n",
    "from wordcloud import WordCloud\n",
    "from sklearn.feature_extraction.text import CountVectorizer\n",
    "from sklearn.model_selection import train_test_split\n",
    "from sklearn.linear_model import LogisticRegression\n",
    "from sklearn.svm import LinearSVC\n",
    "from sklearn.metrics import accuracy_score, classification_report, confusion_matrix, ConfusionMatrixDisplay\n",
    "import warnings"
   ]
  },
  {
   "cell_type": "code",
   "execution_count": 2,
   "id": "4bf30391",
   "metadata": {
    "execution": {
     "iopub.execute_input": "2023-01-25T08:55:22.604801Z",
     "iopub.status.busy": "2023-01-25T08:55:22.604405Z",
     "iopub.status.idle": "2023-01-25T08:55:22.610293Z",
     "shell.execute_reply": "2023-01-25T08:55:22.609138Z"
    },
    "papermill": {
     "duration": 0.015683,
     "end_time": "2023-01-25T08:55:22.612717",
     "exception": false,
     "start_time": "2023-01-25T08:55:22.597034",
     "status": "completed"
    },
    "tags": []
   },
   "outputs": [],
   "source": [
    "warnings.filterwarnings('ignore')"
   ]
  },
  {
   "cell_type": "code",
   "execution_count": 3,
   "id": "4bf18c3b",
   "metadata": {
    "execution": {
     "iopub.execute_input": "2023-01-25T08:55:22.634574Z",
     "iopub.status.busy": "2023-01-25T08:55:22.633602Z",
     "iopub.status.idle": "2023-01-25T08:55:23.025106Z",
     "shell.execute_reply": "2023-01-25T08:55:23.023979Z"
    },
    "papermill": {
     "duration": 0.405209,
     "end_time": "2023-01-25T08:55:23.027992",
     "exception": false,
     "start_time": "2023-01-25T08:55:22.622783",
     "status": "completed"
    },
    "tags": []
   },
   "outputs": [],
   "source": [
    "data = pd.read_csv('/kaggle/input/twitter-entity-sentiment-analysis/twitter_training.csv',header=None)\n",
    "v_data = pd.read_csv('/kaggle/input/twitter-entity-sentiment-analysis/twitter_validation.csv',header=None)"
   ]
  },
  {
   "cell_type": "code",
   "execution_count": 4,
   "id": "f5437a58",
   "metadata": {
    "execution": {
     "iopub.execute_input": "2023-01-25T08:55:23.042125Z",
     "iopub.status.busy": "2023-01-25T08:55:23.041723Z",
     "iopub.status.idle": "2023-01-25T08:55:23.071253Z",
     "shell.execute_reply": "2023-01-25T08:55:23.070040Z"
    },
    "papermill": {
     "duration": 0.039323,
     "end_time": "2023-01-25T08:55:23.073640",
     "exception": false,
     "start_time": "2023-01-25T08:55:23.034317",
     "status": "completed"
    },
    "tags": []
   },
   "outputs": [
    {
     "data": {
      "text/html": [
       "<div>\n",
       "<style scoped>\n",
       "    .dataframe tbody tr th:only-of-type {\n",
       "        vertical-align: middle;\n",
       "    }\n",
       "\n",
       "    .dataframe tbody tr th {\n",
       "        vertical-align: top;\n",
       "    }\n",
       "\n",
       "    .dataframe thead th {\n",
       "        text-align: right;\n",
       "    }\n",
       "</style>\n",
       "<table border=\"1\" class=\"dataframe\">\n",
       "  <thead>\n",
       "    <tr style=\"text-align: right;\">\n",
       "      <th></th>\n",
       "      <th>0</th>\n",
       "      <th>1</th>\n",
       "      <th>2</th>\n",
       "      <th>3</th>\n",
       "    </tr>\n",
       "  </thead>\n",
       "  <tbody>\n",
       "    <tr>\n",
       "      <th>0</th>\n",
       "      <td>2401</td>\n",
       "      <td>Borderlands</td>\n",
       "      <td>Positive</td>\n",
       "      <td>im getting on borderlands and i will murder yo...</td>\n",
       "    </tr>\n",
       "    <tr>\n",
       "      <th>1</th>\n",
       "      <td>2401</td>\n",
       "      <td>Borderlands</td>\n",
       "      <td>Positive</td>\n",
       "      <td>I am coming to the borders and I will kill you...</td>\n",
       "    </tr>\n",
       "    <tr>\n",
       "      <th>2</th>\n",
       "      <td>2401</td>\n",
       "      <td>Borderlands</td>\n",
       "      <td>Positive</td>\n",
       "      <td>im getting on borderlands and i will kill you ...</td>\n",
       "    </tr>\n",
       "    <tr>\n",
       "      <th>3</th>\n",
       "      <td>2401</td>\n",
       "      <td>Borderlands</td>\n",
       "      <td>Positive</td>\n",
       "      <td>im coming on borderlands and i will murder you...</td>\n",
       "    </tr>\n",
       "    <tr>\n",
       "      <th>4</th>\n",
       "      <td>2401</td>\n",
       "      <td>Borderlands</td>\n",
       "      <td>Positive</td>\n",
       "      <td>im getting on borderlands 2 and i will murder ...</td>\n",
       "    </tr>\n",
       "    <tr>\n",
       "      <th>...</th>\n",
       "      <td>...</td>\n",
       "      <td>...</td>\n",
       "      <td>...</td>\n",
       "      <td>...</td>\n",
       "    </tr>\n",
       "    <tr>\n",
       "      <th>74677</th>\n",
       "      <td>9200</td>\n",
       "      <td>Nvidia</td>\n",
       "      <td>Positive</td>\n",
       "      <td>Just realized that the Windows partition of my...</td>\n",
       "    </tr>\n",
       "    <tr>\n",
       "      <th>74678</th>\n",
       "      <td>9200</td>\n",
       "      <td>Nvidia</td>\n",
       "      <td>Positive</td>\n",
       "      <td>Just realized that my Mac window partition is ...</td>\n",
       "    </tr>\n",
       "    <tr>\n",
       "      <th>74679</th>\n",
       "      <td>9200</td>\n",
       "      <td>Nvidia</td>\n",
       "      <td>Positive</td>\n",
       "      <td>Just realized the windows partition of my Mac ...</td>\n",
       "    </tr>\n",
       "    <tr>\n",
       "      <th>74680</th>\n",
       "      <td>9200</td>\n",
       "      <td>Nvidia</td>\n",
       "      <td>Positive</td>\n",
       "      <td>Just realized between the windows partition of...</td>\n",
       "    </tr>\n",
       "    <tr>\n",
       "      <th>74681</th>\n",
       "      <td>9200</td>\n",
       "      <td>Nvidia</td>\n",
       "      <td>Positive</td>\n",
       "      <td>Just like the windows partition of my Mac is l...</td>\n",
       "    </tr>\n",
       "  </tbody>\n",
       "</table>\n",
       "<p>74682 rows × 4 columns</p>\n",
       "</div>"
      ],
      "text/plain": [
       "          0            1         2  \\\n",
       "0      2401  Borderlands  Positive   \n",
       "1      2401  Borderlands  Positive   \n",
       "2      2401  Borderlands  Positive   \n",
       "3      2401  Borderlands  Positive   \n",
       "4      2401  Borderlands  Positive   \n",
       "...     ...          ...       ...   \n",
       "74677  9200       Nvidia  Positive   \n",
       "74678  9200       Nvidia  Positive   \n",
       "74679  9200       Nvidia  Positive   \n",
       "74680  9200       Nvidia  Positive   \n",
       "74681  9200       Nvidia  Positive   \n",
       "\n",
       "                                                       3  \n",
       "0      im getting on borderlands and i will murder yo...  \n",
       "1      I am coming to the borders and I will kill you...  \n",
       "2      im getting on borderlands and i will kill you ...  \n",
       "3      im coming on borderlands and i will murder you...  \n",
       "4      im getting on borderlands 2 and i will murder ...  \n",
       "...                                                  ...  \n",
       "74677  Just realized that the Windows partition of my...  \n",
       "74678  Just realized that my Mac window partition is ...  \n",
       "74679  Just realized the windows partition of my Mac ...  \n",
       "74680  Just realized between the windows partition of...  \n",
       "74681  Just like the windows partition of my Mac is l...  \n",
       "\n",
       "[74682 rows x 4 columns]"
      ]
     },
     "execution_count": 4,
     "metadata": {},
     "output_type": "execute_result"
    }
   ],
   "source": [
    "data"
   ]
  },
  {
   "cell_type": "code",
   "execution_count": 5,
   "id": "8ba5223b",
   "metadata": {
    "execution": {
     "iopub.execute_input": "2023-01-25T08:55:23.088669Z",
     "iopub.status.busy": "2023-01-25T08:55:23.087835Z",
     "iopub.status.idle": "2023-01-25T08:55:23.103806Z",
     "shell.execute_reply": "2023-01-25T08:55:23.103008Z"
    },
    "papermill": {
     "duration": 0.026084,
     "end_time": "2023-01-25T08:55:23.106114",
     "exception": false,
     "start_time": "2023-01-25T08:55:23.080030",
     "status": "completed"
    },
    "tags": []
   },
   "outputs": [
    {
     "data": {
      "text/html": [
       "<div>\n",
       "<style scoped>\n",
       "    .dataframe tbody tr th:only-of-type {\n",
       "        vertical-align: middle;\n",
       "    }\n",
       "\n",
       "    .dataframe tbody tr th {\n",
       "        vertical-align: top;\n",
       "    }\n",
       "\n",
       "    .dataframe thead th {\n",
       "        text-align: right;\n",
       "    }\n",
       "</style>\n",
       "<table border=\"1\" class=\"dataframe\">\n",
       "  <thead>\n",
       "    <tr style=\"text-align: right;\">\n",
       "      <th></th>\n",
       "      <th>0</th>\n",
       "      <th>1</th>\n",
       "      <th>2</th>\n",
       "      <th>3</th>\n",
       "    </tr>\n",
       "  </thead>\n",
       "  <tbody>\n",
       "    <tr>\n",
       "      <th>0</th>\n",
       "      <td>3364</td>\n",
       "      <td>Facebook</td>\n",
       "      <td>Irrelevant</td>\n",
       "      <td>I mentioned on Facebook that I was struggling ...</td>\n",
       "    </tr>\n",
       "    <tr>\n",
       "      <th>1</th>\n",
       "      <td>352</td>\n",
       "      <td>Amazon</td>\n",
       "      <td>Neutral</td>\n",
       "      <td>BBC News - Amazon boss Jeff Bezos rejects clai...</td>\n",
       "    </tr>\n",
       "    <tr>\n",
       "      <th>2</th>\n",
       "      <td>8312</td>\n",
       "      <td>Microsoft</td>\n",
       "      <td>Negative</td>\n",
       "      <td>@Microsoft Why do I pay for WORD when it funct...</td>\n",
       "    </tr>\n",
       "    <tr>\n",
       "      <th>3</th>\n",
       "      <td>4371</td>\n",
       "      <td>CS-GO</td>\n",
       "      <td>Negative</td>\n",
       "      <td>CSGO matchmaking is so full of closet hacking,...</td>\n",
       "    </tr>\n",
       "    <tr>\n",
       "      <th>4</th>\n",
       "      <td>4433</td>\n",
       "      <td>Google</td>\n",
       "      <td>Neutral</td>\n",
       "      <td>Now the President is slapping Americans in the...</td>\n",
       "    </tr>\n",
       "    <tr>\n",
       "      <th>...</th>\n",
       "      <td>...</td>\n",
       "      <td>...</td>\n",
       "      <td>...</td>\n",
       "      <td>...</td>\n",
       "    </tr>\n",
       "    <tr>\n",
       "      <th>995</th>\n",
       "      <td>4891</td>\n",
       "      <td>GrandTheftAuto(GTA)</td>\n",
       "      <td>Irrelevant</td>\n",
       "      <td>⭐️ Toronto is the arts and culture capital of ...</td>\n",
       "    </tr>\n",
       "    <tr>\n",
       "      <th>996</th>\n",
       "      <td>4359</td>\n",
       "      <td>CS-GO</td>\n",
       "      <td>Irrelevant</td>\n",
       "      <td>tHIS IS ACTUALLY A GOOD MOVE TOT BRING MORE VI...</td>\n",
       "    </tr>\n",
       "    <tr>\n",
       "      <th>997</th>\n",
       "      <td>2652</td>\n",
       "      <td>Borderlands</td>\n",
       "      <td>Positive</td>\n",
       "      <td>Today sucked so it’s time to drink wine n play...</td>\n",
       "    </tr>\n",
       "    <tr>\n",
       "      <th>998</th>\n",
       "      <td>8069</td>\n",
       "      <td>Microsoft</td>\n",
       "      <td>Positive</td>\n",
       "      <td>Bought a fraction of Microsoft today. Small wins.</td>\n",
       "    </tr>\n",
       "    <tr>\n",
       "      <th>999</th>\n",
       "      <td>6960</td>\n",
       "      <td>johnson&amp;johnson</td>\n",
       "      <td>Neutral</td>\n",
       "      <td>Johnson &amp; Johnson to stop selling talc baby po...</td>\n",
       "    </tr>\n",
       "  </tbody>\n",
       "</table>\n",
       "<p>1000 rows × 4 columns</p>\n",
       "</div>"
      ],
      "text/plain": [
       "        0                    1           2  \\\n",
       "0    3364             Facebook  Irrelevant   \n",
       "1     352               Amazon     Neutral   \n",
       "2    8312            Microsoft    Negative   \n",
       "3    4371                CS-GO    Negative   \n",
       "4    4433               Google     Neutral   \n",
       "..    ...                  ...         ...   \n",
       "995  4891  GrandTheftAuto(GTA)  Irrelevant   \n",
       "996  4359                CS-GO  Irrelevant   \n",
       "997  2652          Borderlands    Positive   \n",
       "998  8069            Microsoft    Positive   \n",
       "999  6960      johnson&johnson     Neutral   \n",
       "\n",
       "                                                     3  \n",
       "0    I mentioned on Facebook that I was struggling ...  \n",
       "1    BBC News - Amazon boss Jeff Bezos rejects clai...  \n",
       "2    @Microsoft Why do I pay for WORD when it funct...  \n",
       "3    CSGO matchmaking is so full of closet hacking,...  \n",
       "4    Now the President is slapping Americans in the...  \n",
       "..                                                 ...  \n",
       "995  ⭐️ Toronto is the arts and culture capital of ...  \n",
       "996  tHIS IS ACTUALLY A GOOD MOVE TOT BRING MORE VI...  \n",
       "997  Today sucked so it’s time to drink wine n play...  \n",
       "998  Bought a fraction of Microsoft today. Small wins.  \n",
       "999  Johnson & Johnson to stop selling talc baby po...  \n",
       "\n",
       "[1000 rows x 4 columns]"
      ]
     },
     "execution_count": 5,
     "metadata": {},
     "output_type": "execute_result"
    }
   ],
   "source": [
    "v_data"
   ]
  },
  {
   "cell_type": "code",
   "execution_count": 6,
   "id": "591e88d6",
   "metadata": {
    "execution": {
     "iopub.execute_input": "2023-01-25T08:55:23.121430Z",
     "iopub.status.busy": "2023-01-25T08:55:23.121025Z",
     "iopub.status.idle": "2023-01-25T08:55:23.128003Z",
     "shell.execute_reply": "2023-01-25T08:55:23.126925Z"
    },
    "papermill": {
     "duration": 0.017586,
     "end_time": "2023-01-25T08:55:23.130349",
     "exception": false,
     "start_time": "2023-01-25T08:55:23.112763",
     "status": "completed"
    },
    "tags": []
   },
   "outputs": [],
   "source": [
    "# columns names\n",
    "data.columns = ['#', 'refers to', 'sentiment', 'text']\n",
    "v_data.columns = ['#', 'refers to', 'sentiment', 'text']\n"
   ]
  },
  {
   "cell_type": "code",
   "execution_count": 7,
   "id": "60ce67f9",
   "metadata": {
    "execution": {
     "iopub.execute_input": "2023-01-25T08:55:23.145703Z",
     "iopub.status.busy": "2023-01-25T08:55:23.145291Z",
     "iopub.status.idle": "2023-01-25T08:55:23.158562Z",
     "shell.execute_reply": "2023-01-25T08:55:23.157196Z"
    },
    "papermill": {
     "duration": 0.024401,
     "end_time": "2023-01-25T08:55:23.161580",
     "exception": false,
     "start_time": "2023-01-25T08:55:23.137179",
     "status": "completed"
    },
    "tags": []
   },
   "outputs": [],
   "source": [
    "data = data.drop(['#', 'refers to' ], axis=1)\n",
    "v_data = v_data.drop(['#', 'refers to' ], axis=1)"
   ]
  },
  {
   "cell_type": "code",
   "execution_count": 8,
   "id": "e534ab63",
   "metadata": {
    "execution": {
     "iopub.execute_input": "2023-01-25T08:55:23.177564Z",
     "iopub.status.busy": "2023-01-25T08:55:23.177131Z",
     "iopub.status.idle": "2023-01-25T08:55:23.201986Z",
     "shell.execute_reply": "2023-01-25T08:55:23.200663Z"
    },
    "papermill": {
     "duration": 0.036099,
     "end_time": "2023-01-25T08:55:23.204715",
     "exception": false,
     "start_time": "2023-01-25T08:55:23.168616",
     "status": "completed"
    },
    "tags": []
   },
   "outputs": [],
   "source": [
    "data.dropna(inplace=True, axis=0)"
   ]
  },
  {
   "cell_type": "code",
   "execution_count": 9,
   "id": "7512bfc0",
   "metadata": {
    "execution": {
     "iopub.execute_input": "2023-01-25T08:55:23.220501Z",
     "iopub.status.busy": "2023-01-25T08:55:23.220079Z",
     "iopub.status.idle": "2023-01-25T08:55:23.288417Z",
     "shell.execute_reply": "2023-01-25T08:55:23.286910Z"
    },
    "papermill": {
     "duration": 0.079565,
     "end_time": "2023-01-25T08:55:23.291208",
     "exception": false,
     "start_time": "2023-01-25T08:55:23.211643",
     "status": "completed"
    },
    "tags": []
   },
   "outputs": [],
   "source": [
    "data=data.drop_duplicates()\n",
    "v_data=v_data.drop_duplicates()"
   ]
  },
  {
   "cell_type": "code",
   "execution_count": 10,
   "id": "8f6397c5",
   "metadata": {
    "execution": {
     "iopub.execute_input": "2023-01-25T08:55:23.306421Z",
     "iopub.status.busy": "2023-01-25T08:55:23.306016Z",
     "iopub.status.idle": "2023-01-25T08:55:23.312480Z",
     "shell.execute_reply": "2023-01-25T08:55:23.311420Z"
    },
    "papermill": {
     "duration": 0.017163,
     "end_time": "2023-01-25T08:55:23.314984",
     "exception": false,
     "start_time": "2023-01-25T08:55:23.297821",
     "status": "completed"
    },
    "tags": []
   },
   "outputs": [],
   "source": [
    "def data_processing(text):\n",
    "    text = text.lower()\n",
    "    text = re.sub(r\"https\\S+|www\\S+https\\S+\", '',text, flags=re.MULTILINE)\n",
    "    text = re.sub(r'\\@w+|\\#','',text)\n",
    "    text = re.sub(r'[^\\w\\s]','',text)\n",
    "    text_tokens = word_tokenize(text)\n",
    "    filtered_text = [w for w in text_tokens if not w in stop_words]\n",
    "    return \" \".join(filtered_text)"
   ]
  },
  {
   "cell_type": "code",
   "execution_count": 11,
   "id": "c90b0522",
   "metadata": {
    "execution": {
     "iopub.execute_input": "2023-01-25T08:55:23.330519Z",
     "iopub.status.busy": "2023-01-25T08:55:23.329379Z",
     "iopub.status.idle": "2023-01-25T08:55:33.993624Z",
     "shell.execute_reply": "2023-01-25T08:55:33.992424Z"
    },
    "papermill": {
     "duration": 10.674761,
     "end_time": "2023-01-25T08:55:33.996360",
     "exception": false,
     "start_time": "2023-01-25T08:55:23.321599",
     "status": "completed"
    },
    "tags": []
   },
   "outputs": [],
   "source": [
    "data.text = data['text'].apply(data_processing)"
   ]
  },
  {
   "cell_type": "code",
   "execution_count": 12,
   "id": "f421369b",
   "metadata": {
    "execution": {
     "iopub.execute_input": "2023-01-25T08:55:34.012327Z",
     "iopub.status.busy": "2023-01-25T08:55:34.011877Z",
     "iopub.status.idle": "2023-01-25T08:55:34.186070Z",
     "shell.execute_reply": "2023-01-25T08:55:34.184638Z"
    },
    "papermill": {
     "duration": 0.18489,
     "end_time": "2023-01-25T08:55:34.188928",
     "exception": false,
     "start_time": "2023-01-25T08:55:34.004038",
     "status": "completed"
    },
    "tags": []
   },
   "outputs": [],
   "source": [
    "v_data.text = v_data['text'].apply(data_processing)"
   ]
  },
  {
   "cell_type": "code",
   "execution_count": 13,
   "id": "514c019f",
   "metadata": {
    "execution": {
     "iopub.execute_input": "2023-01-25T08:55:34.203698Z",
     "iopub.status.busy": "2023-01-25T08:55:34.203279Z",
     "iopub.status.idle": "2023-01-25T08:55:34.209142Z",
     "shell.execute_reply": "2023-01-25T08:55:34.207929Z"
    },
    "papermill": {
     "duration": 0.015934,
     "end_time": "2023-01-25T08:55:34.211329",
     "exception": false,
     "start_time": "2023-01-25T08:55:34.195395",
     "status": "completed"
    },
    "tags": []
   },
   "outputs": [],
   "source": [
    "stemmer = PorterStemmer()\n",
    "def stemming(data):\n",
    "    text = [stemmer.stem(word) for word in data]\n",
    "    return data"
   ]
  },
  {
   "cell_type": "code",
   "execution_count": 14,
   "id": "43d26df2",
   "metadata": {
    "execution": {
     "iopub.execute_input": "2023-01-25T08:55:34.226525Z",
     "iopub.status.busy": "2023-01-25T08:55:34.226057Z",
     "iopub.status.idle": "2023-01-25T08:55:38.553451Z",
     "shell.execute_reply": "2023-01-25T08:55:38.552106Z"
    },
    "papermill": {
     "duration": 4.338379,
     "end_time": "2023-01-25T08:55:38.556217",
     "exception": false,
     "start_time": "2023-01-25T08:55:34.217838",
     "status": "completed"
    },
    "tags": []
   },
   "outputs": [],
   "source": [
    "data['text'] = data['text'].apply(lambda x: stemming(x))\n",
    "v_data['text'] = v_data['text'].apply(lambda x: stemming(x))"
   ]
  },
  {
   "cell_type": "code",
   "execution_count": 15,
   "id": "184790d6",
   "metadata": {
    "execution": {
     "iopub.execute_input": "2023-01-25T08:55:38.571583Z",
     "iopub.status.busy": "2023-01-25T08:55:38.571178Z",
     "iopub.status.idle": "2023-01-25T08:55:41.644267Z",
     "shell.execute_reply": "2023-01-25T08:55:41.642641Z"
    },
    "papermill": {
     "duration": 3.084583,
     "end_time": "2023-01-25T08:55:41.647576",
     "exception": false,
     "start_time": "2023-01-25T08:55:38.562993",
     "status": "completed"
    },
    "tags": []
   },
   "outputs": [],
   "source": [
    "vect = CountVectorizer(ngram_range=(1,2)).fit(data['text'])"
   ]
  },
  {
   "cell_type": "code",
   "execution_count": 16,
   "id": "3bb93875",
   "metadata": {
    "execution": {
     "iopub.execute_input": "2023-01-25T08:55:41.662589Z",
     "iopub.status.busy": "2023-01-25T08:55:41.662169Z",
     "iopub.status.idle": "2023-01-25T08:55:42.016623Z",
     "shell.execute_reply": "2023-01-25T08:55:42.015440Z"
    },
    "papermill": {
     "duration": 0.365092,
     "end_time": "2023-01-25T08:55:42.019368",
     "exception": false,
     "start_time": "2023-01-25T08:55:41.654276",
     "status": "completed"
    },
    "tags": []
   },
   "outputs": [],
   "source": [
    "feature_names = vect.get_feature_names()"
   ]
  },
  {
   "cell_type": "code",
   "execution_count": 17,
   "id": "a628732f",
   "metadata": {
    "execution": {
     "iopub.execute_input": "2023-01-25T08:55:42.035353Z",
     "iopub.status.busy": "2023-01-25T08:55:42.034932Z",
     "iopub.status.idle": "2023-01-25T08:55:43.799948Z",
     "shell.execute_reply": "2023-01-25T08:55:43.798903Z"
    },
    "papermill": {
     "duration": 1.776309,
     "end_time": "2023-01-25T08:55:43.802636",
     "exception": false,
     "start_time": "2023-01-25T08:55:42.026327",
     "status": "completed"
    },
    "tags": []
   },
   "outputs": [],
   "source": [
    "x_train =  vect.transform(data['text'])\n",
    "y_train = data['sentiment']\n",
    "x_test =  vect.transform(v_data['text'])\n",
    "y_test = v_data['sentiment']"
   ]
  },
  {
   "cell_type": "code",
   "execution_count": 18,
   "id": "720524c1",
   "metadata": {
    "execution": {
     "iopub.execute_input": "2023-01-25T08:55:43.817227Z",
     "iopub.status.busy": "2023-01-25T08:55:43.816787Z",
     "iopub.status.idle": "2023-01-25T08:55:43.824289Z",
     "shell.execute_reply": "2023-01-25T08:55:43.822896Z"
    },
    "papermill": {
     "duration": 0.017616,
     "end_time": "2023-01-25T08:55:43.826863",
     "exception": false,
     "start_time": "2023-01-25T08:55:43.809247",
     "status": "completed"
    },
    "tags": []
   },
   "outputs": [
    {
     "name": "stdout",
     "output_type": "stream",
     "text": [
      "Size of x_train: (69769, 330220)\n",
      "Size of y_train: (69769,)\n",
      "Size of x_test: (999, 330220)\n",
      "Size of y_test: (999,)\n"
     ]
    }
   ],
   "source": [
    "print(\"Size of x_train:\", (x_train.shape))\n",
    "print(\"Size of y_train:\", (y_train.shape))\n",
    "print(\"Size of x_test:\", (x_test.shape))\n",
    "print(\"Size of y_test:\", (y_test.shape))"
   ]
  },
  {
   "cell_type": "code",
   "execution_count": 19,
   "id": "08a7fe69",
   "metadata": {
    "execution": {
     "iopub.execute_input": "2023-01-25T08:55:43.842031Z",
     "iopub.status.busy": "2023-01-25T08:55:43.841630Z",
     "iopub.status.idle": "2023-01-25T08:56:28.537164Z",
     "shell.execute_reply": "2023-01-25T08:56:28.535905Z"
    },
    "papermill": {
     "duration": 44.712884,
     "end_time": "2023-01-25T08:56:28.546398",
     "exception": false,
     "start_time": "2023-01-25T08:55:43.833514",
     "status": "completed"
    },
    "tags": []
   },
   "outputs": [
    {
     "name": "stdout",
     "output_type": "stream",
     "text": [
      "test accuracy: 98.20%\n"
     ]
    }
   ],
   "source": [
    "logreg = LogisticRegression()\n",
    "logreg.fit(x_train, y_train)\n",
    "logreg_pred = logreg.predict(x_test)\n",
    "logreg_acc = accuracy_score(logreg_pred, y_test)\n",
    "print(\"test accuracy: {:.2f}%\".format(logreg_acc*100))"
   ]
  },
  {
   "cell_type": "code",
   "execution_count": 20,
   "id": "9e40c8bc",
   "metadata": {
    "execution": {
     "iopub.execute_input": "2023-01-25T08:56:28.562123Z",
     "iopub.status.busy": "2023-01-25T08:56:28.561310Z",
     "iopub.status.idle": "2023-01-25T08:56:28.597411Z",
     "shell.execute_reply": "2023-01-25T08:56:28.595937Z"
    },
    "papermill": {
     "duration": 0.046738,
     "end_time": "2023-01-25T08:56:28.599917",
     "exception": false,
     "start_time": "2023-01-25T08:56:28.553179",
     "status": "completed"
    },
    "tags": []
   },
   "outputs": [
    {
     "name": "stdout",
     "output_type": "stream",
     "text": [
      "[[168   1   1   2]\n",
      " [  0 262   1   3]\n",
      " [  0   1 279   5]\n",
      " [  1   1   2 272]]\n",
      "\n",
      "\n",
      "              precision    recall  f1-score   support\n",
      "\n",
      "  Irrelevant       0.99      0.98      0.99       172\n",
      "    Negative       0.99      0.98      0.99       266\n",
      "     Neutral       0.99      0.98      0.98       285\n",
      "    Positive       0.96      0.99      0.97       276\n",
      "\n",
      "    accuracy                           0.98       999\n",
      "   macro avg       0.98      0.98      0.98       999\n",
      "weighted avg       0.98      0.98      0.98       999\n",
      "\n"
     ]
    }
   ],
   "source": [
    "print(confusion_matrix(y_test, logreg_pred))\n",
    "print(\"\\n\")\n",
    "print(classification_report(y_test, logreg_pred))"
   ]
  },
  {
   "cell_type": "code",
   "execution_count": 21,
   "id": "edfcaf79",
   "metadata": {
    "execution": {
     "iopub.execute_input": "2023-01-25T08:56:28.616643Z",
     "iopub.status.busy": "2023-01-25T08:56:28.615052Z",
     "iopub.status.idle": "2023-01-25T08:57:10.936057Z",
     "shell.execute_reply": "2023-01-25T08:57:10.934923Z"
    },
    "papermill": {
     "duration": 42.339031,
     "end_time": "2023-01-25T08:57:10.945759",
     "exception": false,
     "start_time": "2023-01-25T08:56:28.606728",
     "status": "completed"
    },
    "tags": []
   },
   "outputs": [
    {
     "data": {
      "text/plain": [
       "LinearSVC()"
      ]
     },
     "execution_count": 21,
     "metadata": {},
     "output_type": "execute_result"
    }
   ],
   "source": [
    "SVCmodel = LinearSVC()\n",
    "SVCmodel.fit(x_train, y_train)"
   ]
  },
  {
   "cell_type": "code",
   "execution_count": 22,
   "id": "5676201d",
   "metadata": {
    "execution": {
     "iopub.execute_input": "2023-01-25T08:57:10.962036Z",
     "iopub.status.busy": "2023-01-25T08:57:10.961595Z",
     "iopub.status.idle": "2023-01-25T08:57:10.969488Z",
     "shell.execute_reply": "2023-01-25T08:57:10.968635Z"
    },
    "papermill": {
     "duration": 0.018438,
     "end_time": "2023-01-25T08:57:10.971767",
     "exception": false,
     "start_time": "2023-01-25T08:57:10.953329",
     "status": "completed"
    },
    "tags": []
   },
   "outputs": [
    {
     "name": "stdout",
     "output_type": "stream",
     "text": [
      "test accuracy: 98.80%\n"
     ]
    }
   ],
   "source": [
    "svc_pred = SVCmodel.predict(x_test)\n",
    "svc_acc = accuracy_score(svc_pred, y_test)\n",
    "print(\"test accuracy: {:.2f}%\".format(svc_acc*100))"
   ]
  },
  {
   "cell_type": "code",
   "execution_count": 23,
   "id": "2fee3c74",
   "metadata": {
    "execution": {
     "iopub.execute_input": "2023-01-25T08:57:10.989970Z",
     "iopub.status.busy": "2023-01-25T08:57:10.989553Z",
     "iopub.status.idle": "2023-01-25T08:57:11.026596Z",
     "shell.execute_reply": "2023-01-25T08:57:11.024867Z"
    },
    "papermill": {
     "duration": 0.050241,
     "end_time": "2023-01-25T08:57:11.029602",
     "exception": false,
     "start_time": "2023-01-25T08:57:10.979361",
     "status": "completed"
    },
    "tags": []
   },
   "outputs": [
    {
     "name": "stdout",
     "output_type": "stream",
     "text": [
      "[[170   1   0   1]\n",
      " [  0 262   2   2]\n",
      " [  0   0 281   4]\n",
      " [  1   0   1 274]]\n",
      "\n",
      "\n",
      "              precision    recall  f1-score   support\n",
      "\n",
      "  Irrelevant       0.99      0.99      0.99       172\n",
      "    Negative       1.00      0.98      0.99       266\n",
      "     Neutral       0.99      0.99      0.99       285\n",
      "    Positive       0.98      0.99      0.98       276\n",
      "\n",
      "    accuracy                           0.99       999\n",
      "   macro avg       0.99      0.99      0.99       999\n",
      "weighted avg       0.99      0.99      0.99       999\n",
      "\n"
     ]
    }
   ],
   "source": [
    "print(confusion_matrix(y_test, svc_pred))\n",
    "print(\"\\n\")\n",
    "print(classification_report(y_test, svc_pred))"
   ]
  }
 ],
 "metadata": {
  "kernelspec": {
   "display_name": "Python 3 (ipykernel)",
   "language": "python",
   "name": "python3"
  },
  "language_info": {
   "codemirror_mode": {
    "name": "ipython",
    "version": 3
   },
   "file_extension": ".py",
   "mimetype": "text/x-python",
   "name": "python",
   "nbconvert_exporter": "python",
   "pygments_lexer": "ipython3",
   "version": "3.9.9"
  },
  "papermill": {
   "default_parameters": {},
   "duration": 120.360435,
   "end_time": "2023-01-25T08:57:11.961108",
   "environment_variables": {},
   "exception": null,
   "input_path": "__notebook__.ipynb",
   "output_path": "__notebook__.ipynb",
   "parameters": {},
   "start_time": "2023-01-25T08:55:11.600673",
   "version": "2.3.4"
  }
 },
 "nbformat": 4,
 "nbformat_minor": 5
}
