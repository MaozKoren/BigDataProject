{
 "cells": [
  {
   "cell_type": "code",
   "execution_count": 1,
   "metadata": {
    "execution": {
     "iopub.execute_input": "2022-11-28T11:20:40.910621Z",
     "iopub.status.busy": "2022-11-28T11:20:40.909821Z",
     "iopub.status.idle": "2022-11-28T11:20:48.244525Z",
     "shell.execute_reply": "2022-11-28T11:20:48.243309Z",
     "shell.execute_reply.started": "2022-11-28T11:20:40.910536Z"
    }
   },
   "outputs": [
    {
     "ename": "ModuleNotFoundError",
     "evalue": "No module named 'tensorflow.keras'",
     "output_type": "error",
     "traceback": [
      "\u001b[1;31m---------------------------------------------------------------------------\u001b[0m",
      "\u001b[1;31mModuleNotFoundError\u001b[0m                       Traceback (most recent call last)",
      "\u001b[1;32m~\\AppData\\Local\\Temp\\ipykernel_1052\\3200087058.py\u001b[0m in \u001b[0;36m<cell line: 7>\u001b[1;34m()\u001b[0m\n\u001b[0;32m      5\u001b[0m \u001b[1;33m\u001b[0m\u001b[0m\n\u001b[0;32m      6\u001b[0m \u001b[1;32mimport\u001b[0m \u001b[0mtensorflow\u001b[0m \u001b[1;32mas\u001b[0m \u001b[0mtf\u001b[0m\u001b[1;33m\u001b[0m\u001b[1;33m\u001b[0m\u001b[0m\n\u001b[1;32m----> 7\u001b[1;33m \u001b[1;32mfrom\u001b[0m \u001b[0mtensorflow\u001b[0m\u001b[1;33m.\u001b[0m\u001b[0mkeras\u001b[0m \u001b[1;32mimport\u001b[0m \u001b[0mlayers\u001b[0m\u001b[1;33m\u001b[0m\u001b[1;33m\u001b[0m\u001b[0m\n\u001b[0m\u001b[0;32m      8\u001b[0m \u001b[1;33m\u001b[0m\u001b[0m\n\u001b[0;32m      9\u001b[0m \u001b[1;33m\u001b[0m\u001b[0m\n",
      "\u001b[1;31mModuleNotFoundError\u001b[0m: No module named 'tensorflow.keras'"
     ]
    }
   ],
   "source": [
    "import pandas as pd\n",
    "import numpy as np\n",
    "from tqdm.auto import tqdm\n",
    "from nltk.tokenize import word_tokenize\n",
    "\n",
    "import tensorflow as tf\n",
    "from tensorflow.keras import layers\n",
    "\n",
    "\n",
    "from sklearn.model_selection import train_test_split"
   ]
  },
  {
   "cell_type": "code",
   "execution_count": 2,
   "metadata": {
    "execution": {
     "iopub.execute_input": "2022-11-28T11:20:51.393081Z",
     "iopub.status.busy": "2022-11-28T11:20:51.392467Z",
     "iopub.status.idle": "2022-11-28T11:21:00.881618Z",
     "shell.execute_reply": "2022-11-28T11:21:00.880676Z",
     "shell.execute_reply.started": "2022-11-28T11:20:51.393045Z"
    }
   },
   "outputs": [
    {
     "data": {
      "application/vnd.jupyter.widget-view+json": {
       "model_id": "303b94030aa4428797fe6c24ec56e9f2",
       "version_major": 2,
       "version_minor": 0
      },
      "text/plain": [
       "  0%|          | 0/400000 [00:00<?, ?it/s]"
      ]
     },
     "metadata": {},
     "output_type": "display_data"
    }
   ],
   "source": [
    "words = []\n",
    "embeddings = []\n",
    "\n",
    "with open('/kaggle/input/glove6b100d/glove.6B.100d.txt', 'r') as f:\n",
    "    for line in tqdm(f, total=400_000):\n",
    "        word, *vector = line.split()\n",
    "        words.append(word)\n",
    "        embeddings.append(vector)"
   ]
  },
  {
   "cell_type": "code",
   "execution_count": 3,
   "metadata": {
    "execution": {
     "iopub.execute_input": "2022-11-28T11:21:01.800027Z",
     "iopub.status.busy": "2022-11-28T11:21:01.799652Z",
     "iopub.status.idle": "2022-11-28T11:21:25.837025Z",
     "shell.execute_reply": "2022-11-28T11:21:25.835958Z",
     "shell.execute_reply.started": "2022-11-28T11:21:01.799995Z"
    }
   },
   "outputs": [],
   "source": [
    "embeddings = np.float32(np.array(embeddings))"
   ]
  },
  {
   "cell_type": "code",
   "execution_count": 4,
   "metadata": {
    "execution": {
     "iopub.execute_input": "2022-11-28T11:21:25.839669Z",
     "iopub.status.busy": "2022-11-28T11:21:25.839090Z",
     "iopub.status.idle": "2022-11-28T11:21:25.849119Z",
     "shell.execute_reply": "2022-11-28T11:21:25.848109Z",
     "shell.execute_reply.started": "2022-11-28T11:21:25.839631Z"
    }
   },
   "outputs": [
    {
     "data": {
      "text/plain": [
       "(400000, 100)"
      ]
     },
     "execution_count": 4,
     "metadata": {},
     "output_type": "execute_result"
    }
   ],
   "source": [
    "embeddings.shape"
   ]
  },
  {
   "cell_type": "code",
   "execution_count": 5,
   "metadata": {
    "execution": {
     "iopub.execute_input": "2022-11-28T11:21:25.851692Z",
     "iopub.status.busy": "2022-11-28T11:21:25.850935Z",
     "iopub.status.idle": "2022-11-28T11:21:25.952532Z",
     "shell.execute_reply": "2022-11-28T11:21:25.951393Z",
     "shell.execute_reply.started": "2022-11-28T11:21:25.851657Z"
    }
   },
   "outputs": [],
   "source": [
    "embeddings = np.concatenate([np.zeros((2, 100)),\n",
    "                            embeddings], axis=0)"
   ]
  },
  {
   "cell_type": "code",
   "execution_count": 6,
   "metadata": {
    "execution": {
     "iopub.execute_input": "2022-11-28T11:21:25.955769Z",
     "iopub.status.busy": "2022-11-28T11:21:25.955144Z",
     "iopub.status.idle": "2022-11-28T11:21:26.305694Z",
     "shell.execute_reply": "2022-11-28T11:21:26.304644Z",
     "shell.execute_reply.started": "2022-11-28T11:21:25.955732Z"
    }
   },
   "outputs": [],
   "source": [
    "word2idx = {w: i+2 for i, w in enumerate(words)}\n",
    "idx2word = {i+2: w for i, w in enumerate(words)}\n",
    "\n",
    "word2idx['PAD'] = 0\n",
    "idx2word[0] = 'PAD'\n",
    "\n",
    "word2idx['OOV'] = 1\n",
    "idx2word[1] = 'OOV'"
   ]
  },
  {
   "cell_type": "markdown",
   "metadata": {},
   "source": [
    "# Data reading and preprocecssing"
   ]
  },
  {
   "cell_type": "code",
   "execution_count": 7,
   "metadata": {
    "execution": {
     "iopub.execute_input": "2022-11-28T11:21:26.307844Z",
     "iopub.status.busy": "2022-11-28T11:21:26.307307Z",
     "iopub.status.idle": "2022-11-28T11:21:26.631992Z",
     "shell.execute_reply": "2022-11-28T11:21:26.631030Z",
     "shell.execute_reply.started": "2022-11-28T11:21:26.307808Z"
    }
   },
   "outputs": [
    {
     "data": {
      "text/html": [
       "<div>\n",
       "<style scoped>\n",
       "    .dataframe tbody tr th:only-of-type {\n",
       "        vertical-align: middle;\n",
       "    }\n",
       "\n",
       "    .dataframe tbody tr th {\n",
       "        vertical-align: top;\n",
       "    }\n",
       "\n",
       "    .dataframe thead th {\n",
       "        text-align: right;\n",
       "    }\n",
       "</style>\n",
       "<table border=\"1\" class=\"dataframe\">\n",
       "  <thead>\n",
       "    <tr style=\"text-align: right;\">\n",
       "      <th></th>\n",
       "      <th>Sentence</th>\n",
       "      <th>Sentiment</th>\n",
       "    </tr>\n",
       "  </thead>\n",
       "  <tbody>\n",
       "    <tr>\n",
       "      <th>0</th>\n",
       "      <td>The GeoSolutions technology will leverage Bene...</td>\n",
       "      <td>positive</td>\n",
       "    </tr>\n",
       "    <tr>\n",
       "      <th>1</th>\n",
       "      <td>$ESI on lows, down $1.50 to $2.50 BK a real po...</td>\n",
       "      <td>negative</td>\n",
       "    </tr>\n",
       "    <tr>\n",
       "      <th>2</th>\n",
       "      <td>For the last quarter of 2010 , Componenta 's n...</td>\n",
       "      <td>positive</td>\n",
       "    </tr>\n",
       "    <tr>\n",
       "      <th>3</th>\n",
       "      <td>According to the Finnish-Russian Chamber of Co...</td>\n",
       "      <td>neutral</td>\n",
       "    </tr>\n",
       "    <tr>\n",
       "      <th>4</th>\n",
       "      <td>The Swedish buyout firm has sold its remaining...</td>\n",
       "      <td>neutral</td>\n",
       "    </tr>\n",
       "    <tr>\n",
       "      <th>...</th>\n",
       "      <td>...</td>\n",
       "      <td>...</td>\n",
       "    </tr>\n",
       "    <tr>\n",
       "      <th>5837</th>\n",
       "      <td>RISING costs have forced packaging producer Hu...</td>\n",
       "      <td>negative</td>\n",
       "    </tr>\n",
       "    <tr>\n",
       "      <th>5838</th>\n",
       "      <td>Nordic Walking was first used as a summer trai...</td>\n",
       "      <td>neutral</td>\n",
       "    </tr>\n",
       "    <tr>\n",
       "      <th>5839</th>\n",
       "      <td>According shipping company Viking Line , the E...</td>\n",
       "      <td>neutral</td>\n",
       "    </tr>\n",
       "    <tr>\n",
       "      <th>5840</th>\n",
       "      <td>In the building and home improvement trade , s...</td>\n",
       "      <td>neutral</td>\n",
       "    </tr>\n",
       "    <tr>\n",
       "      <th>5841</th>\n",
       "      <td>HELSINKI AFX - KCI Konecranes said it has won ...</td>\n",
       "      <td>positive</td>\n",
       "    </tr>\n",
       "  </tbody>\n",
       "</table>\n",
       "<p>5842 rows × 2 columns</p>\n",
       "</div>"
      ],
      "text/plain": [
       "                                               Sentence Sentiment\n",
       "0     The GeoSolutions technology will leverage Bene...  positive\n",
       "1     $ESI on lows, down $1.50 to $2.50 BK a real po...  negative\n",
       "2     For the last quarter of 2010 , Componenta 's n...  positive\n",
       "3     According to the Finnish-Russian Chamber of Co...   neutral\n",
       "4     The Swedish buyout firm has sold its remaining...   neutral\n",
       "...                                                 ...       ...\n",
       "5837  RISING costs have forced packaging producer Hu...  negative\n",
       "5838  Nordic Walking was first used as a summer trai...   neutral\n",
       "5839  According shipping company Viking Line , the E...   neutral\n",
       "5840  In the building and home improvement trade , s...   neutral\n",
       "5841  HELSINKI AFX - KCI Konecranes said it has won ...  positive\n",
       "\n",
       "[5842 rows x 2 columns]"
      ]
     },
     "execution_count": 7,
     "metadata": {},
     "output_type": "execute_result"
    }
   ],
   "source": [
    "df = pd.read_csv('/kaggle/input/financial-sentiment-analysis/data.csv')\n",
    "df"
   ]
  },
  {
   "cell_type": "code",
   "execution_count": 8,
   "metadata": {
    "execution": {
     "iopub.execute_input": "2022-11-28T11:21:26.638154Z",
     "iopub.status.busy": "2022-11-28T11:21:26.636017Z",
     "iopub.status.idle": "2022-11-28T11:21:26.655559Z",
     "shell.execute_reply": "2022-11-28T11:21:26.654762Z",
     "shell.execute_reply.started": "2022-11-28T11:21:26.638118Z"
    }
   },
   "outputs": [
    {
     "data": {
      "text/plain": [
       "{'negative': 0, 'neutral': 1, 'positive': 2}"
      ]
     },
     "execution_count": 8,
     "metadata": {},
     "output_type": "execute_result"
    }
   ],
   "source": [
    "keys = np.unique(df.Sentiment)\n",
    "values = list(range(len(keys)))\n",
    "label_mapper = dict(zip(keys, values))\n",
    "label_mapper"
   ]
  },
  {
   "cell_type": "code",
   "execution_count": 9,
   "metadata": {
    "execution": {
     "iopub.execute_input": "2022-11-28T11:21:26.661360Z",
     "iopub.status.busy": "2022-11-28T11:21:26.659278Z",
     "iopub.status.idle": "2022-11-28T11:21:26.672165Z",
     "shell.execute_reply": "2022-11-28T11:21:26.671257Z",
     "shell.execute_reply.started": "2022-11-28T11:21:26.661326Z"
    }
   },
   "outputs": [],
   "source": [
    "df.Sentiment = df.Sentiment.map(label_mapper)"
   ]
  },
  {
   "cell_type": "code",
   "execution_count": 10,
   "metadata": {
    "execution": {
     "iopub.execute_input": "2022-11-28T11:21:26.678625Z",
     "iopub.status.busy": "2022-11-28T11:21:26.676532Z",
     "iopub.status.idle": "2022-11-28T11:21:26.699050Z",
     "shell.execute_reply": "2022-11-28T11:21:26.698265Z",
     "shell.execute_reply.started": "2022-11-28T11:21:26.678590Z"
    }
   },
   "outputs": [
    {
     "data": {
      "text/html": [
       "<div>\n",
       "<style scoped>\n",
       "    .dataframe tbody tr th:only-of-type {\n",
       "        vertical-align: middle;\n",
       "    }\n",
       "\n",
       "    .dataframe tbody tr th {\n",
       "        vertical-align: top;\n",
       "    }\n",
       "\n",
       "    .dataframe thead th {\n",
       "        text-align: right;\n",
       "    }\n",
       "</style>\n",
       "<table border=\"1\" class=\"dataframe\">\n",
       "  <thead>\n",
       "    <tr style=\"text-align: right;\">\n",
       "      <th></th>\n",
       "      <th>Sentence</th>\n",
       "      <th>Sentiment</th>\n",
       "    </tr>\n",
       "  </thead>\n",
       "  <tbody>\n",
       "    <tr>\n",
       "      <th>0</th>\n",
       "      <td>the geosolutions technology will leverage bene...</td>\n",
       "      <td>2</td>\n",
       "    </tr>\n",
       "    <tr>\n",
       "      <th>1</th>\n",
       "      <td>$esi on lows, down $1.50 to $2.50 bk a real po...</td>\n",
       "      <td>0</td>\n",
       "    </tr>\n",
       "    <tr>\n",
       "      <th>2</th>\n",
       "      <td>for the last quarter of 2010 , componenta 's n...</td>\n",
       "      <td>2</td>\n",
       "    </tr>\n",
       "    <tr>\n",
       "      <th>3</th>\n",
       "      <td>according to the finnish-russian chamber of co...</td>\n",
       "      <td>1</td>\n",
       "    </tr>\n",
       "    <tr>\n",
       "      <th>4</th>\n",
       "      <td>the swedish buyout firm has sold its remaining...</td>\n",
       "      <td>1</td>\n",
       "    </tr>\n",
       "    <tr>\n",
       "      <th>...</th>\n",
       "      <td>...</td>\n",
       "      <td>...</td>\n",
       "    </tr>\n",
       "    <tr>\n",
       "      <th>5837</th>\n",
       "      <td>rising costs have forced packaging producer hu...</td>\n",
       "      <td>0</td>\n",
       "    </tr>\n",
       "    <tr>\n",
       "      <th>5838</th>\n",
       "      <td>nordic walking was first used as a summer trai...</td>\n",
       "      <td>1</td>\n",
       "    </tr>\n",
       "    <tr>\n",
       "      <th>5839</th>\n",
       "      <td>according shipping company viking line , the e...</td>\n",
       "      <td>1</td>\n",
       "    </tr>\n",
       "    <tr>\n",
       "      <th>5840</th>\n",
       "      <td>in the building and home improvement trade , s...</td>\n",
       "      <td>1</td>\n",
       "    </tr>\n",
       "    <tr>\n",
       "      <th>5841</th>\n",
       "      <td>helsinki afx - kci konecranes said it has won ...</td>\n",
       "      <td>2</td>\n",
       "    </tr>\n",
       "  </tbody>\n",
       "</table>\n",
       "<p>5842 rows × 2 columns</p>\n",
       "</div>"
      ],
      "text/plain": [
       "                                               Sentence  Sentiment\n",
       "0     the geosolutions technology will leverage bene...          2\n",
       "1     $esi on lows, down $1.50 to $2.50 bk a real po...          0\n",
       "2     for the last quarter of 2010 , componenta 's n...          2\n",
       "3     according to the finnish-russian chamber of co...          1\n",
       "4     the swedish buyout firm has sold its remaining...          1\n",
       "...                                                 ...        ...\n",
       "5837  rising costs have forced packaging producer hu...          0\n",
       "5838  nordic walking was first used as a summer trai...          1\n",
       "5839  according shipping company viking line , the e...          1\n",
       "5840  in the building and home improvement trade , s...          1\n",
       "5841  helsinki afx - kci konecranes said it has won ...          2\n",
       "\n",
       "[5842 rows x 2 columns]"
      ]
     },
     "execution_count": 10,
     "metadata": {},
     "output_type": "execute_result"
    }
   ],
   "source": [
    "df.Sentence = df.Sentence.apply(lambda x: x.lower())\n",
    "df"
   ]
  },
  {
   "cell_type": "code",
   "execution_count": 11,
   "metadata": {
    "execution": {
     "iopub.execute_input": "2022-11-28T11:21:26.700900Z",
     "iopub.status.busy": "2022-11-28T11:21:26.700377Z",
     "iopub.status.idle": "2022-11-28T11:21:28.104926Z",
     "shell.execute_reply": "2022-11-28T11:21:28.104008Z",
     "shell.execute_reply.started": "2022-11-28T11:21:26.700865Z"
    }
   },
   "outputs": [],
   "source": [
    "df.Sentence = df.Sentence.apply(lambda x: word_tokenize(x))"
   ]
  },
  {
   "cell_type": "code",
   "execution_count": 12,
   "metadata": {
    "execution": {
     "iopub.execute_input": "2022-11-28T11:21:28.113488Z",
     "iopub.status.busy": "2022-11-28T11:21:28.111275Z",
     "iopub.status.idle": "2022-11-28T11:21:28.135619Z",
     "shell.execute_reply": "2022-11-28T11:21:28.134838Z",
     "shell.execute_reply.started": "2022-11-28T11:21:28.113450Z"
    }
   },
   "outputs": [
    {
     "data": {
      "text/html": [
       "<div>\n",
       "<style scoped>\n",
       "    .dataframe tbody tr th:only-of-type {\n",
       "        vertical-align: middle;\n",
       "    }\n",
       "\n",
       "    .dataframe tbody tr th {\n",
       "        vertical-align: top;\n",
       "    }\n",
       "\n",
       "    .dataframe thead th {\n",
       "        text-align: right;\n",
       "    }\n",
       "</style>\n",
       "<table border=\"1\" class=\"dataframe\">\n",
       "  <thead>\n",
       "    <tr style=\"text-align: right;\">\n",
       "      <th></th>\n",
       "      <th>Sentence</th>\n",
       "      <th>Sentiment</th>\n",
       "    </tr>\n",
       "  </thead>\n",
       "  <tbody>\n",
       "    <tr>\n",
       "      <th>0</th>\n",
       "      <td>[the, geosolutions, technology, will, leverage...</td>\n",
       "      <td>2</td>\n",
       "    </tr>\n",
       "    <tr>\n",
       "      <th>1</th>\n",
       "      <td>[$, esi, on, lows, ,, down, $, 1.50, to, $, 2....</td>\n",
       "      <td>0</td>\n",
       "    </tr>\n",
       "    <tr>\n",
       "      <th>2</th>\n",
       "      <td>[for, the, last, quarter, of, 2010, ,, compone...</td>\n",
       "      <td>2</td>\n",
       "    </tr>\n",
       "    <tr>\n",
       "      <th>3</th>\n",
       "      <td>[according, to, the, finnish-russian, chamber,...</td>\n",
       "      <td>1</td>\n",
       "    </tr>\n",
       "    <tr>\n",
       "      <th>4</th>\n",
       "      <td>[the, swedish, buyout, firm, has, sold, its, r...</td>\n",
       "      <td>1</td>\n",
       "    </tr>\n",
       "    <tr>\n",
       "      <th>...</th>\n",
       "      <td>...</td>\n",
       "      <td>...</td>\n",
       "    </tr>\n",
       "    <tr>\n",
       "      <th>5837</th>\n",
       "      <td>[rising, costs, have, forced, packaging, produ...</td>\n",
       "      <td>0</td>\n",
       "    </tr>\n",
       "    <tr>\n",
       "      <th>5838</th>\n",
       "      <td>[nordic, walking, was, first, used, as, a, sum...</td>\n",
       "      <td>1</td>\n",
       "    </tr>\n",
       "    <tr>\n",
       "      <th>5839</th>\n",
       "      <td>[according, shipping, company, viking, line, ,...</td>\n",
       "      <td>1</td>\n",
       "    </tr>\n",
       "    <tr>\n",
       "      <th>5840</th>\n",
       "      <td>[in, the, building, and, home, improvement, tr...</td>\n",
       "      <td>1</td>\n",
       "    </tr>\n",
       "    <tr>\n",
       "      <th>5841</th>\n",
       "      <td>[helsinki, afx, -, kci, konecranes, said, it, ...</td>\n",
       "      <td>2</td>\n",
       "    </tr>\n",
       "  </tbody>\n",
       "</table>\n",
       "<p>5842 rows × 2 columns</p>\n",
       "</div>"
      ],
      "text/plain": [
       "                                               Sentence  Sentiment\n",
       "0     [the, geosolutions, technology, will, leverage...          2\n",
       "1     [$, esi, on, lows, ,, down, $, 1.50, to, $, 2....          0\n",
       "2     [for, the, last, quarter, of, 2010, ,, compone...          2\n",
       "3     [according, to, the, finnish-russian, chamber,...          1\n",
       "4     [the, swedish, buyout, firm, has, sold, its, r...          1\n",
       "...                                                 ...        ...\n",
       "5837  [rising, costs, have, forced, packaging, produ...          0\n",
       "5838  [nordic, walking, was, first, used, as, a, sum...          1\n",
       "5839  [according, shipping, company, viking, line, ,...          1\n",
       "5840  [in, the, building, and, home, improvement, tr...          1\n",
       "5841  [helsinki, afx, -, kci, konecranes, said, it, ...          2\n",
       "\n",
       "[5842 rows x 2 columns]"
      ]
     },
     "execution_count": 12,
     "metadata": {},
     "output_type": "execute_result"
    }
   ],
   "source": [
    "df"
   ]
  },
  {
   "cell_type": "code",
   "execution_count": 13,
   "metadata": {
    "execution": {
     "iopub.execute_input": "2022-11-28T11:21:28.141420Z",
     "iopub.status.busy": "2022-11-28T11:21:28.139322Z",
     "iopub.status.idle": "2022-11-28T11:21:28.147672Z",
     "shell.execute_reply": "2022-11-28T11:21:28.146743Z",
     "shell.execute_reply.started": "2022-11-28T11:21:28.141386Z"
    }
   },
   "outputs": [],
   "source": [
    "def indexing_fn(tokens):\n",
    "    idxs = []\n",
    "    for token in tokens:\n",
    "        idxs.append(word2idx.get(token, word2idx['OOV']))\n",
    "    return idxs"
   ]
  },
  {
   "cell_type": "code",
   "execution_count": 14,
   "metadata": {
    "execution": {
     "iopub.execute_input": "2022-11-28T11:21:28.154688Z",
     "iopub.status.busy": "2022-11-28T11:21:28.152141Z",
     "iopub.status.idle": "2022-11-28T11:21:28.228508Z",
     "shell.execute_reply": "2022-11-28T11:21:28.227498Z",
     "shell.execute_reply.started": "2022-11-28T11:21:28.154655Z"
    }
   },
   "outputs": [],
   "source": [
    "df.Sentence = df.Sentence.apply(indexing_fn)"
   ]
  },
  {
   "cell_type": "code",
   "execution_count": 15,
   "metadata": {
    "execution": {
     "iopub.execute_input": "2022-11-28T11:21:28.236123Z",
     "iopub.status.busy": "2022-11-28T11:21:28.233683Z",
     "iopub.status.idle": "2022-11-28T11:21:28.257918Z",
     "shell.execute_reply": "2022-11-28T11:21:28.257151Z",
     "shell.execute_reply.started": "2022-11-28T11:21:28.236016Z"
    }
   },
   "outputs": [
    {
     "data": {
      "text/html": [
       "<div>\n",
       "<style scoped>\n",
       "    .dataframe tbody tr th:only-of-type {\n",
       "        vertical-align: middle;\n",
       "    }\n",
       "\n",
       "    .dataframe tbody tr th {\n",
       "        vertical-align: top;\n",
       "    }\n",
       "\n",
       "    .dataframe thead th {\n",
       "        text-align: right;\n",
       "    }\n",
       "</style>\n",
       "<table border=\"1\" class=\"dataframe\">\n",
       "  <thead>\n",
       "    <tr style=\"text-align: right;\">\n",
       "      <th></th>\n",
       "      <th>Sentence</th>\n",
       "      <th>Sentiment</th>\n",
       "    </tr>\n",
       "  </thead>\n",
       "  <tbody>\n",
       "    <tr>\n",
       "      <th>0</th>\n",
       "      <td>[2, 1, 734, 45, 10746, 1, 11, 14652, 4802, 23,...</td>\n",
       "      <td>2</td>\n",
       "    </tr>\n",
       "    <tr>\n",
       "      <th>1</th>\n",
       "      <td>[82, 80988, 15, 9831, 3, 137, 82, 17310, 6, 82...</td>\n",
       "      <td>0</td>\n",
       "    </tr>\n",
       "    <tr>\n",
       "      <th>2</th>\n",
       "      <td>[12, 2, 78, 550, 5, 657, 3, 1, 11, 1052, 528, ...</td>\n",
       "      <td>2</td>\n",
       "    </tr>\n",
       "    <tr>\n",
       "      <th>3</th>\n",
       "      <td>[202, 6, 2, 1, 3198, 5, 2304, 3, 66, 2, 226, 9...</td>\n",
       "      <td>1</td>\n",
       "    </tr>\n",
       "    <tr>\n",
       "      <th>4</th>\n",
       "      <td>[2, 2794, 11551, 1003, 33, 921, 49, 1528, 3179...</td>\n",
       "      <td>1</td>\n",
       "    </tr>\n",
       "    <tr>\n",
       "      <th>...</th>\n",
       "      <td>...</td>\n",
       "      <td>...</td>\n",
       "    </tr>\n",
       "    <tr>\n",
       "      <th>5837</th>\n",
       "      <td>[1539, 1140, 35, 1013, 10831, 1940, 342165, 6,...</td>\n",
       "      <td>0</td>\n",
       "    </tr>\n",
       "    <tr>\n",
       "      <th>5838</th>\n",
       "      <td>[9873, 3528, 17, 60, 182, 21, 9, 742, 790, 324...</td>\n",
       "      <td>1</td>\n",
       "    </tr>\n",
       "    <tr>\n",
       "      <th>5839</th>\n",
       "      <td>[202, 4562, 130, 13631, 333, 3, 2, 646, 453, 4...</td>\n",
       "      <td>1</td>\n",
       "    </tr>\n",
       "    <tr>\n",
       "      <th>5840</th>\n",
       "      <td>[8, 2, 449, 7, 165, 3600, 314, 3, 528, 7842, 2...</td>\n",
       "      <td>1</td>\n",
       "    </tr>\n",
       "    <tr>\n",
       "      <th>5841</th>\n",
       "      <td>[9716, 54522, 13, 122677, 1, 18, 22, 33, 229, ...</td>\n",
       "      <td>2</td>\n",
       "    </tr>\n",
       "  </tbody>\n",
       "</table>\n",
       "<p>5842 rows × 2 columns</p>\n",
       "</div>"
      ],
      "text/plain": [
       "                                               Sentence  Sentiment\n",
       "0     [2, 1, 734, 45, 10746, 1, 11, 14652, 4802, 23,...          2\n",
       "1     [82, 80988, 15, 9831, 3, 137, 82, 17310, 6, 82...          0\n",
       "2     [12, 2, 78, 550, 5, 657, 3, 1, 11, 1052, 528, ...          2\n",
       "3     [202, 6, 2, 1, 3198, 5, 2304, 3, 66, 2, 226, 9...          1\n",
       "4     [2, 2794, 11551, 1003, 33, 921, 49, 1528, 3179...          1\n",
       "...                                                 ...        ...\n",
       "5837  [1539, 1140, 35, 1013, 10831, 1940, 342165, 6,...          0\n",
       "5838  [9873, 3528, 17, 60, 182, 21, 9, 742, 790, 324...          1\n",
       "5839  [202, 4562, 130, 13631, 333, 3, 2, 646, 453, 4...          1\n",
       "5840  [8, 2, 449, 7, 165, 3600, 314, 3, 528, 7842, 2...          1\n",
       "5841  [9716, 54522, 13, 122677, 1, 18, 22, 33, 229, ...          2\n",
       "\n",
       "[5842 rows x 2 columns]"
      ]
     },
     "execution_count": 15,
     "metadata": {},
     "output_type": "execute_result"
    }
   ],
   "source": [
    "df"
   ]
  },
  {
   "cell_type": "code",
   "execution_count": 16,
   "metadata": {
    "execution": {
     "iopub.execute_input": "2022-11-28T11:21:28.263733Z",
     "iopub.status.busy": "2022-11-28T11:21:28.261653Z",
     "iopub.status.idle": "2022-11-28T11:21:28.301571Z",
     "shell.execute_reply": "2022-11-28T11:21:28.300696Z",
     "shell.execute_reply.started": "2022-11-28T11:21:28.263699Z"
    }
   },
   "outputs": [],
   "source": [
    "padded_idx = tf.keras.preprocessing.sequence.pad_sequences(df.Sentence,\n",
    "                                                          maxlen=128,\n",
    "                                                          padding='post',\n",
    "                                                          truncating='post')"
   ]
  },
  {
   "cell_type": "code",
   "execution_count": 17,
   "metadata": {
    "execution": {
     "iopub.execute_input": "2022-11-28T11:21:28.307834Z",
     "iopub.status.busy": "2022-11-28T11:21:28.305677Z",
     "iopub.status.idle": "2022-11-28T11:21:28.325262Z",
     "shell.execute_reply": "2022-11-28T11:21:28.324409Z",
     "shell.execute_reply.started": "2022-11-28T11:21:28.307798Z"
    }
   },
   "outputs": [],
   "source": [
    "train_x, valid_x = train_test_split(padded_idx, test_size=0.2, shuffle=True, random_state=0, stratify=df.Sentiment)\n",
    "train_y, valid_y = train_test_split(df.Sentiment, test_size=0.2, shuffle=True, random_state=0, stratify=df.Sentiment)"
   ]
  },
  {
   "cell_type": "code",
   "execution_count": 18,
   "metadata": {
    "execution": {
     "iopub.execute_input": "2022-11-28T11:21:28.331395Z",
     "iopub.status.busy": "2022-11-28T11:21:28.329254Z",
     "iopub.status.idle": "2022-11-28T11:21:31.185014Z",
     "shell.execute_reply": "2022-11-28T11:21:31.184020Z",
     "shell.execute_reply.started": "2022-11-28T11:21:28.331359Z"
    }
   },
   "outputs": [
    {
     "name": "stderr",
     "output_type": "stream",
     "text": [
      "2022-11-28 11:21:28.413379: I tensorflow/stream_executor/cuda/cuda_gpu_executor.cc:937] successful NUMA node read from SysFS had negative value (-1), but there must be at least one NUMA node, so returning NUMA node zero\n",
      "2022-11-28 11:21:28.564047: I tensorflow/stream_executor/cuda/cuda_gpu_executor.cc:937] successful NUMA node read from SysFS had negative value (-1), but there must be at least one NUMA node, so returning NUMA node zero\n",
      "2022-11-28 11:21:28.565225: I tensorflow/stream_executor/cuda/cuda_gpu_executor.cc:937] successful NUMA node read from SysFS had negative value (-1), but there must be at least one NUMA node, so returning NUMA node zero\n",
      "2022-11-28 11:21:28.568612: I tensorflow/core/platform/cpu_feature_guard.cc:142] This TensorFlow binary is optimized with oneAPI Deep Neural Network Library (oneDNN) to use the following CPU instructions in performance-critical operations:  AVX2 AVX512F FMA\n",
      "To enable them in other operations, rebuild TensorFlow with the appropriate compiler flags.\n",
      "2022-11-28 11:21:28.568942: I tensorflow/stream_executor/cuda/cuda_gpu_executor.cc:937] successful NUMA node read from SysFS had negative value (-1), but there must be at least one NUMA node, so returning NUMA node zero\n",
      "2022-11-28 11:21:28.569903: I tensorflow/stream_executor/cuda/cuda_gpu_executor.cc:937] successful NUMA node read from SysFS had negative value (-1), but there must be at least one NUMA node, so returning NUMA node zero\n",
      "2022-11-28 11:21:28.570829: I tensorflow/stream_executor/cuda/cuda_gpu_executor.cc:937] successful NUMA node read from SysFS had negative value (-1), but there must be at least one NUMA node, so returning NUMA node zero\n",
      "2022-11-28 11:21:30.696797: I tensorflow/stream_executor/cuda/cuda_gpu_executor.cc:937] successful NUMA node read from SysFS had negative value (-1), but there must be at least one NUMA node, so returning NUMA node zero\n",
      "2022-11-28 11:21:30.698009: I tensorflow/stream_executor/cuda/cuda_gpu_executor.cc:937] successful NUMA node read from SysFS had negative value (-1), but there must be at least one NUMA node, so returning NUMA node zero\n",
      "2022-11-28 11:21:30.698938: I tensorflow/stream_executor/cuda/cuda_gpu_executor.cc:937] successful NUMA node read from SysFS had negative value (-1), but there must be at least one NUMA node, so returning NUMA node zero\n",
      "2022-11-28 11:21:30.699805: I tensorflow/core/common_runtime/gpu/gpu_device.cc:1510] Created device /job:localhost/replica:0/task:0/device:GPU:0 with 15401 MB memory:  -> device: 0, name: Tesla P100-PCIE-16GB, pci bus id: 0000:00:04.0, compute capability: 6.0\n"
     ]
    }
   ],
   "source": [
    "train_ds = tf.data.Dataset.from_tensor_slices((train_x, train_y)).shuffle(128).batch(64).prefetch(-1)\n",
    "valid_ds = tf.data.Dataset.from_tensor_slices((valid_x, valid_y)).batch(64).prefetch(-1)"
   ]
  },
  {
   "cell_type": "code",
   "execution_count": 61,
   "metadata": {
    "execution": {
     "iopub.execute_input": "2022-11-28T10:45:54.543408Z",
     "iopub.status.busy": "2022-11-28T10:45:54.543099Z",
     "iopub.status.idle": "2022-11-28T10:45:54.595160Z",
     "shell.execute_reply": "2022-11-28T10:45:54.593612Z",
     "shell.execute_reply.started": "2022-11-28T10:45:54.543384Z"
    }
   },
   "outputs": [],
   "source": [
    "for x, y in train_ds:\n",
    "    break"
   ]
  },
  {
   "cell_type": "markdown",
   "metadata": {},
   "source": [
    "# Embedding layer"
   ]
  },
  {
   "cell_type": "code",
   "execution_count": 69,
   "metadata": {
    "execution": {
     "iopub.execute_input": "2022-11-28T10:50:28.533342Z",
     "iopub.status.busy": "2022-11-28T10:50:28.533026Z",
     "iopub.status.idle": "2022-11-28T10:50:28.538773Z",
     "shell.execute_reply": "2022-11-28T10:50:28.538106Z",
     "shell.execute_reply.started": "2022-11-28T10:50:28.533317Z"
    }
   },
   "outputs": [],
   "source": [
    "embed_layer = layers.Embedding(input_dim=400002,\n",
    "                               output_dim=100,\n",
    "                               embeddings_initializer=tf.keras.initializers.Constant(embeddings),\n",
    "                               trainable=True,)"
   ]
  },
  {
   "cell_type": "code",
   "execution_count": 75,
   "metadata": {
    "execution": {
     "iopub.execute_input": "2022-11-28T10:57:51.739058Z",
     "iopub.status.busy": "2022-11-28T10:57:51.738720Z",
     "iopub.status.idle": "2022-11-28T10:57:51.748227Z",
     "shell.execute_reply": "2022-11-28T10:57:51.747160Z",
     "shell.execute_reply.started": "2022-11-28T10:57:51.739034Z"
    }
   },
   "outputs": [],
   "source": [
    "embed_layer = layers.Embedding(input_dim=400002,\n",
    "                               output_dim=200,\n",
    "                               trainable=True,)"
   ]
  },
  {
   "cell_type": "markdown",
   "metadata": {},
   "source": [
    "# model dev"
   ]
  },
  {
   "cell_type": "code",
   "execution_count": 83,
   "metadata": {
    "execution": {
     "iopub.execute_input": "2022-11-28T11:18:22.690442Z",
     "iopub.status.busy": "2022-11-28T11:18:22.690113Z",
     "iopub.status.idle": "2022-11-28T11:18:22.699371Z",
     "shell.execute_reply": "2022-11-28T11:18:22.697649Z",
     "shell.execute_reply.started": "2022-11-28T11:18:22.690417Z"
    }
   },
   "outputs": [],
   "source": [
    "def nn_model():\n",
    "    inputs = layers.Input(shape=(128,))\n",
    "    embed = layers.Embedding(input_dim=400002,\n",
    "                               output_dim=100,\n",
    "                               embeddings_initializer=tf.keras.initializers.Constant(embeddings),\n",
    "                               trainable=False,)\n",
    "    x = embed(inputs)\n",
    "    x = layers.SimpleRNN(265, return_sequences=True)(x)\n",
    "    x = layers.SimpleRNN(128, return_sequences=False)(x)\n",
    "    \n",
    "    x = layers.Dense(64, activation='relu')(x)\n",
    "    outputs = layers.Dense(3, activation='softmax')(x)\n",
    "    \n",
    "    model = tf.keras.Model(inputs=inputs, outputs=outputs)\n",
    "    model.compile(loss='sparse_categorical_crossentropy',\n",
    "                  optimizer=tf.keras.optimizers.Adam(learning_rate=1e-4),\n",
    "                  metrics=['accuracy'])\n",
    "    return model"
   ]
  },
  {
   "cell_type": "code",
   "execution_count": 84,
   "metadata": {
    "execution": {
     "iopub.execute_input": "2022-11-28T11:18:25.018353Z",
     "iopub.status.busy": "2022-11-28T11:18:25.018021Z",
     "iopub.status.idle": "2022-11-28T11:18:25.200994Z",
     "shell.execute_reply": "2022-11-28T11:18:25.199254Z",
     "shell.execute_reply.started": "2022-11-28T11:18:25.018329Z"
    }
   },
   "outputs": [
    {
     "name": "stdout",
     "output_type": "stream",
     "text": [
      "Model: \"model\"\n",
      "_________________________________________________________________\n",
      "Layer (type)                 Output Shape              Param #   \n",
      "=================================================================\n",
      "input_1 (InputLayer)         [(None, 128)]             0         \n",
      "_________________________________________________________________\n",
      "embedding (Embedding)        (None, 128, 100)          40000200  \n",
      "_________________________________________________________________\n",
      "simple_rnn (SimpleRNN)       (None, 128, 265)          96990     \n",
      "_________________________________________________________________\n",
      "simple_rnn_1 (SimpleRNN)     (None, 128)               50432     \n",
      "_________________________________________________________________\n",
      "dense (Dense)                (None, 64)                8256      \n",
      "_________________________________________________________________\n",
      "dense_1 (Dense)              (None, 3)                 195       \n",
      "=================================================================\n",
      "Total params: 40,156,073\n",
      "Trainable params: 155,873\n",
      "Non-trainable params: 40,000,200\n",
      "_________________________________________________________________\n"
     ]
    }
   ],
   "source": [
    "tf.keras.backend.clear_session()\n",
    "model = nn_model()\n",
    "model.summary()"
   ]
  },
  {
   "cell_type": "code",
   "execution_count": null,
   "metadata": {
    "execution": {
     "iopub.execute_input": "2022-11-28T11:18:54.562782Z",
     "iopub.status.busy": "2022-11-28T11:18:54.562416Z"
    }
   },
   "outputs": [
    {
     "name": "stdout",
     "output_type": "stream",
     "text": [
      "Epoch 1/5\n"
     ]
    },
    {
     "name": "stderr",
     "output_type": "stream",
     "text": [
      "2022-11-28 11:18:55.484904: I tensorflow/compiler/mlir/mlir_graph_optimization_pass.cc:185] None of the MLIR Optimization Passes are enabled (registered 2)\n"
     ]
    },
    {
     "name": "stdout",
     "output_type": "stream",
     "text": [
      "74/74 [==============================] - 30s 386ms/step - loss: 0.9831 - accuracy: 0.5356 - val_loss: 0.9756 - val_accuracy: 0.5261\n",
      "Epoch 2/5\n",
      "74/74 [==============================] - 28s 378ms/step - loss: 0.9814 - accuracy: 0.5269 - val_loss: 0.9865 - val_accuracy: 0.5355\n",
      "Epoch 3/5\n",
      "30/74 [===========>..................] - ETA: 14s - loss: 0.9715 - accuracy: 0.5583"
     ]
    }
   ],
   "source": [
    "model.fit(train_ds, \n",
    "         validation_data=valid_ds,\n",
    "         epochs=5)"
   ]
  },
  {
   "cell_type": "code",
   "execution_count": null,
   "metadata": {},
   "outputs": [],
   "source": []
  },
  {
   "cell_type": "code",
   "execution_count": 19,
   "metadata": {
    "execution": {
     "iopub.execute_input": "2022-11-28T11:21:31.191139Z",
     "iopub.status.busy": "2022-11-28T11:21:31.190526Z",
     "iopub.status.idle": "2022-11-28T11:21:31.201236Z",
     "shell.execute_reply": "2022-11-28T11:21:31.199933Z",
     "shell.execute_reply.started": "2022-11-28T11:21:31.191099Z"
    }
   },
   "outputs": [],
   "source": [
    "def nn_model():\n",
    "    inputs = layers.Input(shape=(128,))\n",
    "    embed = layers.Embedding(input_dim=400002,\n",
    "                               output_dim=100,\n",
    "                               embeddings_initializer=tf.keras.initializers.Constant(embeddings),\n",
    "                               trainable=False,)\n",
    "    x = embed(inputs)\n",
    "    x = layers.LSTM(265, return_sequences=True)(x)\n",
    "    x = layers.LSTM(128, return_sequences=False)(x)\n",
    "    \n",
    "    x = layers.Dense(64, activation='relu')(x)\n",
    "    outputs = layers.Dense(3, activation='softmax')(x)\n",
    "    \n",
    "    model = tf.keras.Model(inputs=inputs, outputs=outputs)\n",
    "    model.compile(loss='sparse_categorical_crossentropy',\n",
    "                  optimizer=tf.keras.optimizers.Adam(learning_rate=1e-4),\n",
    "                  metrics=['accuracy'])\n",
    "    return model"
   ]
  },
  {
   "cell_type": "code",
   "execution_count": 20,
   "metadata": {
    "execution": {
     "iopub.execute_input": "2022-11-28T11:21:32.862620Z",
     "iopub.status.busy": "2022-11-28T11:21:32.862262Z",
     "iopub.status.idle": "2022-11-28T11:21:33.611010Z",
     "shell.execute_reply": "2022-11-28T11:21:33.610014Z",
     "shell.execute_reply.started": "2022-11-28T11:21:32.862588Z"
    }
   },
   "outputs": [
    {
     "name": "stdout",
     "output_type": "stream",
     "text": [
      "Model: \"model\"\n",
      "_________________________________________________________________\n",
      "Layer (type)                 Output Shape              Param #   \n",
      "=================================================================\n",
      "input_1 (InputLayer)         [(None, 128)]             0         \n",
      "_________________________________________________________________\n",
      "embedding (Embedding)        (None, 128, 100)          40000200  \n",
      "_________________________________________________________________\n",
      "lstm (LSTM)                  (None, 128, 265)          387960    \n",
      "_________________________________________________________________\n",
      "lstm_1 (LSTM)                (None, 128)               201728    \n",
      "_________________________________________________________________\n",
      "dense (Dense)                (None, 64)                8256      \n",
      "_________________________________________________________________\n",
      "dense_1 (Dense)              (None, 3)                 195       \n",
      "=================================================================\n",
      "Total params: 40,598,339\n",
      "Trainable params: 598,139\n",
      "Non-trainable params: 40,000,200\n",
      "_________________________________________________________________\n"
     ]
    }
   ],
   "source": [
    "tf.keras.backend.clear_session()\n",
    "model = nn_model()\n",
    "model.summary()"
   ]
  },
  {
   "cell_type": "code",
   "execution_count": 21,
   "metadata": {
    "execution": {
     "iopub.execute_input": "2022-11-28T11:21:59.055638Z",
     "iopub.status.busy": "2022-11-28T11:21:59.054933Z",
     "iopub.status.idle": "2022-11-28T11:22:14.268434Z",
     "shell.execute_reply": "2022-11-28T11:22:14.267520Z",
     "shell.execute_reply.started": "2022-11-28T11:21:59.055601Z"
    }
   },
   "outputs": [
    {
     "name": "stdout",
     "output_type": "stream",
     "text": [
      "Epoch 1/5\n"
     ]
    },
    {
     "name": "stderr",
     "output_type": "stream",
     "text": [
      "2022-11-28 11:22:00.984670: I tensorflow/compiler/mlir/mlir_graph_optimization_pass.cc:185] None of the MLIR Optimization Passes are enabled (registered 2)\n",
      "2022-11-28 11:22:02.122578: I tensorflow/stream_executor/cuda/cuda_dnn.cc:369] Loaded cuDNN version 8005\n"
     ]
    },
    {
     "name": "stdout",
     "output_type": "stream",
     "text": [
      "74/74 [==============================] - 7s 37ms/step - loss: 1.0330 - accuracy: 0.5296 - val_loss: 0.9782 - val_accuracy: 0.5355\n",
      "Epoch 2/5\n",
      "74/74 [==============================] - 2s 27ms/step - loss: 0.9824 - accuracy: 0.5358 - val_loss: 0.9654 - val_accuracy: 0.5355\n",
      "Epoch 3/5\n",
      "74/74 [==============================] - 2s 27ms/step - loss: 0.9129 - accuracy: 0.5682 - val_loss: 0.8740 - val_accuracy: 0.5928\n",
      "Epoch 4/5\n",
      "74/74 [==============================] - 2s 27ms/step - loss: 0.8748 - accuracy: 0.6169 - val_loss: 0.8643 - val_accuracy: 0.5979\n",
      "Epoch 5/5\n",
      "74/74 [==============================] - 2s 27ms/step - loss: 0.8858 - accuracy: 0.6112 - val_loss: 0.8683 - val_accuracy: 0.5997\n"
     ]
    },
    {
     "data": {
      "text/plain": [
       "<keras.callbacks.History at 0x7f83b3155550>"
      ]
     },
     "execution_count": 21,
     "metadata": {},
     "output_type": "execute_result"
    }
   ],
   "source": [
    "model.fit(train_ds, \n",
    "         validation_data=valid_ds,\n",
    "         epochs=5)"
   ]
  },
  {
   "cell_type": "code",
   "execution_count": null,
   "metadata": {},
   "outputs": [],
   "source": []
  },
  {
   "cell_type": "code",
   "execution_count": 22,
   "metadata": {
    "execution": {
     "iopub.execute_input": "2022-11-28T11:22:33.520836Z",
     "iopub.status.busy": "2022-11-28T11:22:33.519907Z",
     "iopub.status.idle": "2022-11-28T11:22:33.529891Z",
     "shell.execute_reply": "2022-11-28T11:22:33.528823Z",
     "shell.execute_reply.started": "2022-11-28T11:22:33.520788Z"
    }
   },
   "outputs": [],
   "source": [
    "def nn_model():\n",
    "    inputs = layers.Input(shape=(128,))\n",
    "    embed = layers.Embedding(input_dim=400002,\n",
    "                               output_dim=100,\n",
    "                               embeddings_initializer=tf.keras.initializers.Constant(embeddings),\n",
    "                               trainable=False,)\n",
    "    x = embed(inputs)\n",
    "    x = layers.GRU(265, return_sequences=True)(x)\n",
    "    x = layers.GRU(128, return_sequences=False)(x)\n",
    "    \n",
    "    x = layers.Dense(64, activation='relu')(x)\n",
    "    outputs = layers.Dense(3, activation='softmax')(x)\n",
    "    \n",
    "    model = tf.keras.Model(inputs=inputs, outputs=outputs)\n",
    "    model.compile(loss='sparse_categorical_crossentropy',\n",
    "                  optimizer=tf.keras.optimizers.Adam(learning_rate=1e-4),\n",
    "                  metrics=['accuracy'])\n",
    "    return model"
   ]
  },
  {
   "cell_type": "code",
   "execution_count": 23,
   "metadata": {
    "execution": {
     "iopub.execute_input": "2022-11-28T11:22:42.247080Z",
     "iopub.status.busy": "2022-11-28T11:22:42.246672Z",
     "iopub.status.idle": "2022-11-28T11:22:42.954288Z",
     "shell.execute_reply": "2022-11-28T11:22:42.953015Z",
     "shell.execute_reply.started": "2022-11-28T11:22:42.247045Z"
    }
   },
   "outputs": [
    {
     "name": "stdout",
     "output_type": "stream",
     "text": [
      "Model: \"model\"\n",
      "_________________________________________________________________\n",
      "Layer (type)                 Output Shape              Param #   \n",
      "=================================================================\n",
      "input_1 (InputLayer)         [(None, 128)]             0         \n",
      "_________________________________________________________________\n",
      "embedding (Embedding)        (None, 128, 100)          40000200  \n",
      "_________________________________________________________________\n",
      "gru (GRU)                    (None, 128, 265)          291765    \n",
      "_________________________________________________________________\n",
      "gru_1 (GRU)                  (None, 128)               151680    \n",
      "_________________________________________________________________\n",
      "dense (Dense)                (None, 64)                8256      \n",
      "_________________________________________________________________\n",
      "dense_1 (Dense)              (None, 3)                 195       \n",
      "=================================================================\n",
      "Total params: 40,452,096\n",
      "Trainable params: 451,896\n",
      "Non-trainable params: 40,000,200\n",
      "_________________________________________________________________\n"
     ]
    }
   ],
   "source": [
    "tf.keras.backend.clear_session()\n",
    "model = nn_model()\n",
    "model.summary()"
   ]
  },
  {
   "cell_type": "code",
   "execution_count": 24,
   "metadata": {
    "execution": {
     "iopub.execute_input": "2022-11-28T11:23:25.650070Z",
     "iopub.status.busy": "2022-11-28T11:23:25.649682Z",
     "iopub.status.idle": "2022-11-28T11:23:40.500919Z",
     "shell.execute_reply": "2022-11-28T11:23:40.499830Z",
     "shell.execute_reply.started": "2022-11-28T11:23:25.650038Z"
    }
   },
   "outputs": [
    {
     "name": "stdout",
     "output_type": "stream",
     "text": [
      "Epoch 1/5\n",
      "74/74 [==============================] - 5s 35ms/step - loss: 1.0284 - accuracy: 0.5296 - val_loss: 0.9807 - val_accuracy: 0.5355\n",
      "Epoch 2/5\n",
      "74/74 [==============================] - 2s 28ms/step - loss: 0.9817 - accuracy: 0.5358 - val_loss: 0.9810 - val_accuracy: 0.5355\n",
      "Epoch 3/5\n",
      "74/74 [==============================] - 2s 29ms/step - loss: 0.9817 - accuracy: 0.5358 - val_loss: 0.9809 - val_accuracy: 0.5355\n",
      "Epoch 4/5\n",
      "74/74 [==============================] - 2s 28ms/step - loss: 0.9817 - accuracy: 0.5358 - val_loss: 0.9808 - val_accuracy: 0.5355\n",
      "Epoch 5/5\n",
      "74/74 [==============================] - 2s 28ms/step - loss: 0.9816 - accuracy: 0.5358 - val_loss: 0.9810 - val_accuracy: 0.5355\n"
     ]
    },
    {
     "data": {
      "text/plain": [
       "<keras.callbacks.History at 0x7f83b3092d50>"
      ]
     },
     "execution_count": 24,
     "metadata": {},
     "output_type": "execute_result"
    }
   ],
   "source": [
    "model.fit(train_ds, \n",
    "         validation_data=valid_ds,\n",
    "         epochs=5)"
   ]
  },
  {
   "cell_type": "code",
   "execution_count": null,
   "metadata": {},
   "outputs": [],
   "source": []
  },
  {
   "cell_type": "code",
   "execution_count": null,
   "metadata": {},
   "outputs": [],
   "source": []
  },
  {
   "cell_type": "code",
   "execution_count": null,
   "metadata": {},
   "outputs": [],
   "source": []
  },
  {
   "cell_type": "code",
   "execution_count": 25,
   "metadata": {
    "execution": {
     "iopub.execute_input": "2022-11-28T11:26:49.453365Z",
     "iopub.status.busy": "2022-11-28T11:26:49.452793Z",
     "iopub.status.idle": "2022-11-28T11:26:49.468590Z",
     "shell.execute_reply": "2022-11-28T11:26:49.467504Z",
     "shell.execute_reply.started": "2022-11-28T11:26:49.453322Z"
    }
   },
   "outputs": [],
   "source": [
    "def nn_model():\n",
    "    inputs = layers.Input(shape=(128,))\n",
    "    embed = layers.Embedding(input_dim=400002,\n",
    "                               output_dim=100,\n",
    "                               embeddings_initializer=tf.keras.initializers.Constant(embeddings),\n",
    "                               trainable=False,)\n",
    "    x = embed(inputs)\n",
    "    x = layers.Bidirectional(layers.LSTM(265, return_sequences=True))(x)\n",
    "    x = layers.Bidirectional(layers.LSTM(128, return_sequences=False))(x)\n",
    "    \n",
    "    x = layers.Dense(64, activation='relu')(x)\n",
    "    outputs = layers.Dense(3, activation='softmax')(x)\n",
    "    \n",
    "    model = tf.keras.Model(inputs=inputs, outputs=outputs)\n",
    "    model.compile(loss='sparse_categorical_crossentropy',\n",
    "                  optimizer=tf.keras.optimizers.Adam(learning_rate=1e-4),\n",
    "                  metrics=['accuracy'])\n",
    "    return model"
   ]
  },
  {
   "cell_type": "code",
   "execution_count": 26,
   "metadata": {
    "execution": {
     "iopub.execute_input": "2022-11-28T11:26:56.824636Z",
     "iopub.status.busy": "2022-11-28T11:26:56.824268Z",
     "iopub.status.idle": "2022-11-28T11:26:58.221242Z",
     "shell.execute_reply": "2022-11-28T11:26:58.220228Z",
     "shell.execute_reply.started": "2022-11-28T11:26:56.824605Z"
    }
   },
   "outputs": [
    {
     "name": "stdout",
     "output_type": "stream",
     "text": [
      "Model: \"model\"\n",
      "_________________________________________________________________\n",
      "Layer (type)                 Output Shape              Param #   \n",
      "=================================================================\n",
      "input_1 (InputLayer)         [(None, 128)]             0         \n",
      "_________________________________________________________________\n",
      "embedding (Embedding)        (None, 128, 100)          40000200  \n",
      "_________________________________________________________________\n",
      "bidirectional (Bidirectional (None, 128, 530)          775920    \n",
      "_________________________________________________________________\n",
      "bidirectional_1 (Bidirection (None, 256)               674816    \n",
      "_________________________________________________________________\n",
      "dense (Dense)                (None, 64)                16448     \n",
      "_________________________________________________________________\n",
      "dense_1 (Dense)              (None, 3)                 195       \n",
      "=================================================================\n",
      "Total params: 41,467,579\n",
      "Trainable params: 1,467,379\n",
      "Non-trainable params: 40,000,200\n",
      "_________________________________________________________________\n"
     ]
    }
   ],
   "source": [
    "tf.keras.backend.clear_session()\n",
    "model = nn_model()\n",
    "model.summary()"
   ]
  },
  {
   "cell_type": "code",
   "execution_count": 27,
   "metadata": {
    "execution": {
     "iopub.execute_input": "2022-11-28T11:27:12.086724Z",
     "iopub.status.busy": "2022-11-28T11:27:12.086361Z",
     "iopub.status.idle": "2022-11-28T11:27:40.811047Z",
     "shell.execute_reply": "2022-11-28T11:27:40.809994Z",
     "shell.execute_reply.started": "2022-11-28T11:27:12.086694Z"
    }
   },
   "outputs": [
    {
     "name": "stdout",
     "output_type": "stream",
     "text": [
      "Epoch 1/5\n",
      "74/74 [==============================] - 10s 72ms/step - loss: 0.9427 - accuracy: 0.5585 - val_loss: 0.8650 - val_accuracy: 0.6151\n",
      "Epoch 2/5\n",
      "74/74 [==============================] - 4s 58ms/step - loss: 0.8408 - accuracy: 0.6247 - val_loss: 0.8290 - val_accuracy: 0.6228\n",
      "Epoch 3/5\n",
      "74/74 [==============================] - 4s 58ms/step - loss: 0.7971 - accuracy: 0.6454 - val_loss: 0.8432 - val_accuracy: 0.5851\n",
      "Epoch 4/5\n",
      "74/74 [==============================] - 4s 58ms/step - loss: 0.7739 - accuracy: 0.6568 - val_loss: 0.7678 - val_accuracy: 0.6433\n",
      "Epoch 5/5\n",
      "74/74 [==============================] - 4s 58ms/step - loss: 0.7151 - accuracy: 0.6811 - val_loss: 0.7292 - val_accuracy: 0.6724\n"
     ]
    },
    {
     "data": {
      "text/plain": [
       "<keras.callbacks.History at 0x7f83b3a86d50>"
      ]
     },
     "execution_count": 27,
     "metadata": {},
     "output_type": "execute_result"
    }
   ],
   "source": [
    "model.fit(train_ds, \n",
    "         validation_data=valid_ds,\n",
    "         epochs=5)"
   ]
  },
  {
   "cell_type": "code",
   "execution_count": 29,
   "metadata": {
    "execution": {
     "iopub.execute_input": "2022-11-28T11:28:24.197597Z",
     "iopub.status.busy": "2022-11-28T11:28:24.197058Z",
     "iopub.status.idle": "2022-11-28T11:28:24.599395Z",
     "shell.execute_reply": "2022-11-28T11:28:24.598472Z",
     "shell.execute_reply.started": "2022-11-28T11:28:24.197562Z"
    }
   },
   "outputs": [
    {
     "name": "stdout",
     "output_type": "stream",
     "text": [
      "19/19 [==============================] - 0s 20ms/step\n"
     ]
    }
   ],
   "source": [
    "preds = model.predict(valid_ds, verbose=1)"
   ]
  },
  {
   "cell_type": "code",
   "execution_count": 30,
   "metadata": {
    "execution": {
     "iopub.execute_input": "2022-11-28T11:28:28.814776Z",
     "iopub.status.busy": "2022-11-28T11:28:28.814420Z",
     "iopub.status.idle": "2022-11-28T11:28:28.822164Z",
     "shell.execute_reply": "2022-11-28T11:28:28.821129Z",
     "shell.execute_reply.started": "2022-11-28T11:28:28.814746Z"
    }
   },
   "outputs": [
    {
     "data": {
      "text/plain": [
       "array([[0.21806417, 0.6731907 , 0.10874511],\n",
       "       [0.16601238, 0.73893976, 0.09504792],\n",
       "       [0.01270728, 0.71048933, 0.27680346],\n",
       "       ...,\n",
       "       [0.03087193, 0.93018484, 0.03894313],\n",
       "       [0.01813367, 0.81501305, 0.16685326],\n",
       "       [0.01562289, 0.92322725, 0.06114994]], dtype=float32)"
      ]
     },
     "execution_count": 30,
     "metadata": {},
     "output_type": "execute_result"
    }
   ],
   "source": [
    "preds"
   ]
  },
  {
   "cell_type": "code",
   "execution_count": null,
   "metadata": {},
   "outputs": [],
   "source": []
  },
  {
   "cell_type": "code",
   "execution_count": null,
   "metadata": {},
   "outputs": [],
   "source": []
  },
  {
   "cell_type": "code",
   "execution_count": null,
   "metadata": {},
   "outputs": [],
   "source": []
  },
  {
   "cell_type": "code",
   "execution_count": null,
   "metadata": {},
   "outputs": [],
   "source": []
  },
  {
   "cell_type": "code",
   "execution_count": null,
   "metadata": {},
   "outputs": [],
   "source": []
  },
  {
   "cell_type": "code",
   "execution_count": null,
   "metadata": {},
   "outputs": [],
   "source": []
  },
  {
   "cell_type": "code",
   "execution_count": null,
   "metadata": {},
   "outputs": [],
   "source": []
  },
  {
   "cell_type": "code",
   "execution_count": null,
   "metadata": {},
   "outputs": [],
   "source": []
  },
  {
   "cell_type": "code",
   "execution_count": null,
   "metadata": {},
   "outputs": [],
   "source": []
  },
  {
   "cell_type": "code",
   "execution_count": null,
   "metadata": {},
   "outputs": [],
   "source": []
  },
  {
   "cell_type": "code",
   "execution_count": null,
   "metadata": {},
   "outputs": [],
   "source": []
  },
  {
   "cell_type": "code",
   "execution_count": null,
   "metadata": {},
   "outputs": [],
   "source": []
  },
  {
   "cell_type": "code",
   "execution_count": null,
   "metadata": {},
   "outputs": [],
   "source": []
  },
  {
   "cell_type": "code",
   "execution_count": null,
   "metadata": {},
   "outputs": [],
   "source": []
  }
 ],
 "metadata": {
  "kernelspec": {
   "display_name": "Python 3 (ipykernel)",
   "language": "python",
   "name": "python3"
  },
  "language_info": {
   "codemirror_mode": {
    "name": "ipython",
    "version": 3
   },
   "file_extension": ".py",
   "mimetype": "text/x-python",
   "name": "python",
   "nbconvert_exporter": "python",
   "pygments_lexer": "ipython3",
   "version": "3.9.9"
  }
 },
 "nbformat": 4,
 "nbformat_minor": 4
}
